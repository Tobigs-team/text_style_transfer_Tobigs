{
  "nbformat": 4,
  "nbformat_minor": 0,
  "metadata": {
    "colab": {
      "name": "coca_preprocessing.ipynb",
      "provenance": [],
      "collapsed_sections": [],
      "authorship_tag": "ABX9TyMzKY4GYcPMJFLvjEHUHcs/",
      "include_colab_link": true
    },
    "kernelspec": {
      "name": "python3",
      "display_name": "Python 3"
    },
    "language_info": {
      "name": "python"
    }
  },
  "cells": [
    {
      "cell_type": "markdown",
      "metadata": {
        "id": "view-in-github",
        "colab_type": "text"
      },
      "source": [
        "<a href=\"https://colab.research.google.com/github/Annie-Yeeun-Jang/text_style_transfer_Tobigs/blob/main/preprocessing/coca_preprocessing.ipynb\" target=\"_parent\"><img src=\"https://colab.research.google.com/assets/colab-badge.svg\" alt=\"Open In Colab\"/></a>"
      ]
    },
    {
      "cell_type": "code",
      "metadata": {
        "colab": {
          "base_uri": "https://localhost:8080/"
        },
        "id": "0uZGNMC0BREu",
        "outputId": "00865371-7f86-4755-878a-eca7438ae7cb"
      },
      "source": [
        "from google.colab import drive\n",
        "drive.mount('./gdrive', force_remount=True)"
      ],
      "execution_count": 1,
      "outputs": [
        {
          "output_type": "stream",
          "text": [
            "Mounted at ./gdrive\n"
          ],
          "name": "stdout"
        }
      ]
    },
    {
      "cell_type": "code",
      "metadata": {
        "id": "CHEvIKVHGHms"
      },
      "source": [
        "with open(\"/content/gdrive/Shareddrives/text_conf/dataset/COCA/coca-samples-text/0_text_acad.txt\", encoding = 'UTF-8', newline = '\\n') as f:\n",
        "  coca_acad = f.readlines()\n",
        "\n",
        "f.close()"
      ],
      "execution_count": 2,
      "outputs": []
    },
    {
      "cell_type": "code",
      "metadata": {
        "colab": {
          "base_uri": "https://localhost:8080/"
        },
        "id": "GIEaJ4OSA1oi",
        "outputId": "c0edc956-5318-4e77-be47-78aa1c9ca1c7"
      },
      "source": [
        "len(coca_acad) #문서 개수"
      ],
      "execution_count": 3,
      "outputs": [
        {
          "output_type": "execute_result",
          "data": {
            "text/plain": [
              "266"
            ]
          },
          "metadata": {
            "tags": []
          },
          "execution_count": 3
        }
      ]
    },
    {
      "cell_type": "code",
      "metadata": {
        "colab": {
          "base_uri": "https://localhost:8080/",
          "height": 108
        },
        "id": "iUUgrPXTHXEp",
        "outputId": "2351507d-a924-48b6-fe6f-432a655cd7e8"
      },
      "source": [
        "coca_acad[-3]"
      ],
      "execution_count": 4,
      "outputs": [
        {
          "output_type": "execute_result",
          "data": {
            "application/vnd.google.colaboratory.intrinsic+json": {
              "type": "string"
            },
            "text/plain": [
              "'@@5026341 # From the moment phonography was invented by Thomas A. Edison in 1877 , and certainly after the numerous technical perfections of the ensuing years , the phonograph became a much valued instrument , as well as a toy , that quickly found its way around the world . \\' A box that could record and reproduce sound had been unimaginable . The new machine could be used in manifold ways , for amusement as well as for serious matters . The commercial function that Edison envisioned most was that of a dictaphone. ( 2 ) That the wax cylinders could at first not record more than two minutes of sound was a handicap , but technical improvements soon doubled that amount of time . Another initial drawback was the fact that the cylinders could not be copied , but this , too , was solved . # A year later , in 1878 , Edison published a number of possible purposes for his invention . Among the ten points that Edison enumerated , two were particularly relevant for scholarly and educational uses : \" the preservation of languages by exact reproduction of the manner of pronouncing \" ( @ @ @ @ @ @ @ @ @ @ elocutionary teacher , or as a primary teacher for children , it will certainly be invaluable . By it difficult passages may be correctly rendered for the pupil but once , after which he has only to apply to his phonograph for instructions . The child may thus learn to spell , to commit to memory , a lesson set for it , etc. , etc. \" ( 4 ) Linguists and anthropologists used phonographs until late in the 1930s . One and the same machine able to make a recording and then reproduce it had a great advantage in the field over the technically more complicated sound recording on discs to be played by gramophone , an invention that appeared more or less simultaneously with the phonograph . The manufacture of sound discs was much more complex and demanded a higher technical level than recording on wax cylinders . Once the Edison Home Phonograph , a self-contained instrument to be sold at an affordable price , was developed for the market in 1896 , the recording of sound came within the reach of a large public . # An @ @ @ @ @ @ @ @ @ @ by Ahmad Rasim , an employee of the Turkish Imperial Telegraph Company , who in 1885 published a booklet with the title \" The Phonograph , One of the Most Remarkable Inventions of Mankind , \" apparently translated into Turkish from a European language . ( 5 ) It included a portrait of Edison and three images of an early phonograph , but does not attest to its use in a Muslim country . There is no discussion as to the permissibility of phonography. # For Islamic law scholars slightly over a hundred years ago , use of the phonograph was an entirely new subject . They approached this novelty by traditional methods -- finding precedents and applying analogy . Their purpose was to categorize the act of using this marvelous invention , this piece of wood that reproduced the human voice , as one of five qualifications ( ahkam ) of Islamic law ifiqh ) : obligatory ifard ) , recommendable ( sunna ) , permitted imubah ) , reprehensible ( makruh ) , and forbidden ( haram ) . Only when the jurisprudents have classified an act in @ @ @ @ @ @ @ @ @ @ such a novelty . Quranic recitation is considered \" divine music \" ( 6 ) and more generally an act of worship . The conditions for recitation according to fiqh are ritual purity -- cleanliness of body and mind . Elaborate rules are to be observed by the reciter as well as the listener , for both reciting and listening promise a heavenly reward . ( 7 ) The Quran is for Muslims , as its name ( lit. recitation ) implies , the pronunciation of God \\'s word ; secondarily it is a holy book in written or printed form . This aspect of orality makes early discussions by Muslim jurisprudents on Quranic phonography even more relevant . ( 8 ) Some attention has been paid recently to the consequences of new technologies in the duplication of the Quranic text , but the legal aspects of this remain largely unresearched. ( 9 ) # When the Dutch Islamicist Christiaan Snouck Hurgronje ( 1857-1936 ) published an article in 1900 on Muslim legal opinion on the recording of sound in general and of the recitation of the Quran in particular @ @ @ @ @ @ @ @ @ @ modern . ( 10 ) At the time Snouck Hurgronje was based in Batavia ( Jakarta ) , where he held the influential post of official adviser to the Dutch colonial government on Arabian and Islamic affairs . It was his job , among other duties , to monitor new trends in the thinking of Indonesian Muslims , to report about these to the Dutch authorities , and to write official dispatches containing advice . These dispatches , most of which have been published , are still a prime source for the history of Islam in Indonesia in the late nineteenth and early twentieth centuries . \\' \\' At the time they were conceived , however , they had a practical purpose and a very limited circulation . Occasionally Snouck Hurgronje found the time to expand his research and work out its results in learned articles -- his article on the phonograph is a typical spinoff of his official remarks . ( 12 ) # Phonography in Islamic circles was never a subject that required Snouck Hurgronje \\'s official advice , but writings and fatwas on aspects of phonography were @ @ @ @ @ @ @ @ @ @ . Of the early authors on phonography , two were in fact acquaintances of his -- Sajjid Oethman ( Sayyid\\'Uthman ) and Abdallah al-Zawawi . The former probably offered the booklet that he published in 1899-1900 on phonography to Snouck Hurgronje ; the latter sent him a handwritten copy of his fatwa on the same subject in the course of 1908 . That document , which is not widely known , is herewith published and translated . # A favorable circumstance was that Snouck Hurgronje had a genuine interest in all sorts of technical novelties . He brought photographic equipment with him for his stay in Jedda and Mecca in 1884-1885 , and after the Egyptian officer Muhammad Sadiq Bey ( Sadie Bey ) he was the second photographer -- together with the Meccan physician Abd al-Ghaffar b . Abd al-Rahman al-Baghdadl ( 13 ) -- to record images of Islam \\'s holy city and its inhabitants , and the first Westerner to do so . Much later in life he chose to travel to the 17th International Congress of Orientalists in Oxford ( August 28-September 1 , 1928 ) @ @ @ @ @ @ @ @ @ @ a certain eagerness for new technologies . But at the beginning of the twentieth century phonography had taken his fancy , not just to write about Muslim reactions to this new phenomenon , but also to embrace , play , and work with it for its own sake at his home in Weltevreden , Batavia. ( 14 ) # EARLY ISLAMIC WRITINGS ON SOUND RECORDING # The earliest known document on the use of phonography in an Islamic context dates from 1899 . It is a fatwa , a legal opinion , issued by Sayyid\\'Uthman ( 1822-1914 ) in Batavia. ( 15 ) Sayyid TJthman was of HadramI origin , like so many Arabs in southeast Asia . He was a leading intellectual in Islamic circles , had many contacts with the colonial authorities , and exerted considerable influence by way of the stream of publications that came from his lithographic press . Some of these are still being reprinted . Inevitably , he was involved in many controversies concerning both Islamic law and the modus vivendi between Indonesian Muslims and the colonial authorities . In his fatwa he divided @ @ @ @ @ @ @ @ @ @ he answers ( after a lengthy introduction with considerations of a more general nature ) : # 1 . Is phonography an honest profession ? Is reciting the Quran and a singing woman from the same box permitted ? Answer : If decency is guaranteed , it is permitted . # 2 . Are the sounds reproduced indeed the Quran ? Is there a reward for the listener ? Answer : No reward is gained , because the sound does not come from the mouth of a human being , and the Quranic sound that one hears from the phonograph is not produced by the human organ of speech . # 3 . If phonographic sound is not considered to be the human voice , may one listen to a phonographic copy of a strange woman \\'s ( ajnabiyya ) voice ? Answer : If the listening arouses lust it is forbidden ; if this is not the case , it is permitted . There is an analogy with looking at the shadow of a strange woman , or at her image in a mirror . # Sayyid\\'Uthman \\'s fatwa @ @ @ @ @ @ @ @ @ @ more elaborate one to silence his opponents . ( 16 ) Although he does not provide their identity , Sayyid \\' Uthman \\'s lengthier fatwa is a vigorous rejection of the opinion and conclusions on the same subject of a Singaporean mufti , who was apparently more permissive and liberal than Sayyid \\' Uthman . The Singaporean mufti held the following views : to listen to phonographically produced sounds is always permitted ; to listen to phonographically produced Quranic recitation brings reward ; prostration while listening to the sajda verses produced phonographically is recommended ; the engravings in the cylinder have the same legal status as script in a written or printed Quran. # A few years later , an Egyptian jurisprudent by the name of Muhammad Bakhit al-Muti\\'i ( 1856-1935 ) wrote a pamphlet on the subjects of phonography and insurance , two subjects that are only related by the fact of their modernity. ( 17 ) The author was a former member of the Egyptian High Court and would go on to have a distinguished career as Egypt \\'s Grand Mufti . He had already written two treatises @ @ @ @ @ @ @ @ @ @ , but these had , so he tells us , aroused criticism from several sides , and in the present work he sets out to position himself better on the two subjects and to give a fuller explanation . This he does first in the form of twelve questions that are put in the mouth of a ( fictitious ? ) person and are then followed by the author \\'s answers . These answers gain in weight by their fatwalike appearance . The questions can be reduced to the following ten : # 1 . Can a wax cylinder of the Quran be considered the same as the Quran in book form ? # 2 . Does the person who plays the cylinder receive the same reward as the copyist of the Quran ? # 3 . Can the person who plays the cylinder be considered a reciter of the Quran ? # 4 . Are imperfections in playing the Quran a sin on the account of the reciter who was recorded , and are these repeated by repetition of playing , and is he rewarded if the performance is @ @ @ @ @ @ @ @ @ @ out of the phonograph real or just the likeness of a recitation ? This question suggests ignorance regarding the inner workings of the phonograph , which are then explained . Edison \\'s name is mentioned. # 6 . What about the entertainment character of the mechanical recitation of the Quran ? The author answers with an explanation of the serious applications of the phonograph. # 7 . What is the difference between the repetition of the Revelation by a machine and that by the angel Gabriel ? The answer explains the difference between lafz , ( the form , or sound of the machine ) and ma\\'na ( the meaning , or content of the Revelation ) . # 8 . Is a verse of the Quran incumbent on the believer when recited by a machine , as it is when recited by a live person ? The answer is that the only difference is in the speaker ( al-natiq ) , viz. , an intelligent one and an unintelligent one . Referencing Q 20:12 ( and also 79:16 ) , al-Muti\\'i finds a parallel when the prophet Musa hears @ @ @ @ @ @ @ @ @ @ piece of wood . ( 18 ) The author ably works out this parallel with reference to early Islamic discussions on the divine attributes , of which the divine word is one. # 9 . What about the fact that God \\'s word must be recited with emotion ( bi-hazn ) l The answer is that a phonograph has no feeling , but whoever listens to God \\'s word should feel the emotion , even when it is reproduced phonographically. ( 19 ) # 10 . What if the phonograph also reproduces the sound of the Gospel ? The answer is that it can only reproduce one recording at a time . Nobody can say that when God \\'s word is phonographically reproduced , this is not the Quran . When the Gospel is phonographically reproduced , then that is the Gospel to its people. # These questions and answers follow a refutation by al-Muti\\'i of an unnamed , harsh critic of both his treatises on the phonograph and on insurance , one of whose reproaches was that al-Muti\\'i had not given an adequate description of the phonograph machine . @ @ @ @ @ @ @ @ @ @ and a short description of the working of the phonograph is once more given . The other criticism concerns al-Muf\\'i \\'s opinions on insurance , mostly in connection with international commerce . The ensuing discussion , which quickly derails and shifts into a full-fledged theological discussion with a wealth of technicalities and intricacies , falls outside the scope of the present article . # A third early writing on the phonograph was a fatwa by the Meccan scholar of Maghribi descent Abdallah Muhammad Salih al-Zawawi. ( 20 ) Al-Zawawi first met Snouck Hurgronje in Jedda in 1884 , when the latter was on his way to Mecca where he would stay between February and July 1885 . Like his father , al-Zawawi was a professor in the Great Mosque of Mecca . ( 21 ) Upon being exiled from Mecca he traveled widely in Southeast Asia , in particular to the Arab Sultanate of Pontianak on the west coast of Kalimantan ( Borneo ) , and in the Middle East . During this time he looked after his business interests , inquired after resorts to treat his fragile health , @ @ @ @ @ @ @ @ @ @ . In this he eventually succeeded . He was killed during Ibn Sa\\'ud \\'s conquest of al-Ta\\'if in 1924 . In his lifetime he was an invaluable informant for Snouck Hurgronje and their long correspondence touches upon numerous interesting subjects . # AL-ZAWAWl \\'S FATWA ON PHONOGRAPHY # In his letter to Snouck Hurgronje of 12 Sha\\'ban 1326 , al-Zawawi writes : You mentioned the arrival of my letter , although it contained nothing about the phonograph , you thanked me for that , but this , I mean your gratitude , is for something where gratitude is not due , and this is just the result of your virtue and your perfection . From it I understood that you have a special interest in what was written concerning the phonograph , so I asked my son to look for the draft version , and to do that urgently . He found a copy of the draft in his own poor handwriting , but for someone like you it is legible , and therefore I enclose it in this letter . I hope it reaches you , and if you @ @ @ @ @ @ @ @ @ @ The text ( 22 ) of al-Zawawf \\'s fatwa follows : phrase omitted # phrase omitted # phrase omitted # phrase omitted # phrase omitted # phrase omitted # Translation # In the name of God , the Merciful , the Compassionate # There has appeared an apparatus that speaks with sounds , with singing , and all sorts of poetry , and it sings and it wails . On some of its tablets , ( 23 ) which are called cylinders , there appears recitation of the Quran and of the call to prayer , adhan . It has become commonplace in the suq , in gatherings of people , and in every cafe , and it is sold everywhere , most of its buyers being Christians , Mazdeans , and others . I hereby request an elucidation on its legal status when it speaks Quran and on the legal status of the cylinders from which the sound of the Quran is heard with the aforementioned apparatus , this from the viewpoint of veneration for the Quran , from the viewpoint of carrying and touching it with ritually impure @ @ @ @ @ @ @ @ @ @ for the recitation upon hearing from it a sajda verse , and likewise in connection with the adhan , or when this is not required , since opinions differ as to its ruling -- some are strict and some are more lenient in this respect . God , the Highest , has said : \" Ask the followers of the reminder if you do not know . \" ( 24 ) # The answer : # Praise be to God alone , and blessing and peace be upon him , after whom there is no prophet , and upon his family , his companions , his party , his regiment , and his army . It is known that the permitted is what God , He be praised , has permitted , the forbidden is what God , He be praised and exalted , has forbidden , and He is silent about other things , without being forgetful , but only because these were not asked about . It is known that this apparatus is something new , for which there is not yet an authoritative text as to its @ @ @ @ @ @ @ @ @ @ God , that is , finality about something being forbidden or being permitted without an authoritative text is sinful . The preponderant adopted position among those who concern themselves with the principles of the law is that the basis of things is lawfulness , being permitted , and analogy ( the definition of analogy is the establishment of the likeness of a known ruling to another so as to compare the ratio legis ( 25 ) ) . A condition for its correctness is that there is a likeness between the compared object and that with which it is compared in what concerns the ratio legis and a number of contemporary scholars have given their opinions on this question . One allowed it without qualification , and made the matter easy , not considering the tablets on which the sound of the Quran is recorded as something that should be venerated . On the contrary , he said that it is permitted to use them even for ritual cleansing purposes . Another put it in every way in the category of the Quran , and yet another declared it unlawful @ @ @ @ @ @ @ @ @ @ , I mean recording the sound of the Quran on the aforementioned cylinders , one of the gravest sins . To the writer of these lines it appears that the question can be divided into five questions , as you will see : # 1 . the discourse on the reciter , the apparatus that is called gramophone ; # 2. the discourse on the tablets , the cylinders on which there is the sound of the Quran ; # 3. the discourse on prostrating during the recitation , upon hearing a sajda verse from the loudspeaker ; # 4. the discourse on whether or not the listener is rewarded ; # 5. the discourse on whether or not the person who records his recitation on the tablets of the loudspeaker is rewarded , commits a sin , or neither . # The answer to the first question is that , as far as veneration is concerned , a ruling regarding use of the apparatus applies . When it is used in order to perform the Quran , the obvious opinion is that this depends on the aim of the @ @ @ @ @ @ @ @ @ @ admonish by making it heard , or if there is another correct intention other than admonishing and preaching , as when he is using it for vowelization of the letters or for reciting or for any other lawfully permitted purpose , there is no reason to prohibit this , and he should be rewarded according to the aim and intention that he had . If his aim is to play and to indulge in amusement , as is often the case when listening to the aforementioned instrument , then it is forbidden and doing that should be considered a sin . I am afraid that whoever does this becomes one of those who have taken their religion in contempt and as amusement , and he should heed the words of God , exalted is He : \" And leave those who have taken their religion for a play and an idle sport , and whom this world \\'s life has deceived , and remind them thereby lest a soul should be given up ... , \" till the end of the verse . ( 26 ) Hence , as most @ @ @ @ @ @ @ @ @ @ play , it is best to prohibit the performance of the Quran with it , and thus it will only be used for what it was originally designed , that is for singing and the like . # The answer to the second question is that the cylinders on which the Quran is recorded should be considered , as far as the law is concerned , in the same way as tablets and the paper on which Quranic text is written , or as the leather with which a Quran is bound , because our veneration for the paper and the tablets , correction : ( 27 ) for the leather , the cover , and the boxes in which copies of the Quran are kept , is there all the time because of their relationship with the Quran , not because of the substance of the ink or the style of writing , that is , the writing of the letters in particular . What we nowadays write our copies of the Quran with -- there is no doubt that it is different from how it was done in @ @ @ @ @ @ @ @ @ @ there is the question of miniature copies of the Quran that can only be read with a magnifying glass . These are without doubt venerated by every well-informed person . Because of all of what I have mentioned it seems that it is obligatory to pay respect to the tablets of the loudspeaker , that is , to the cylinders . This is incumbent on whoever knows about the existence of the sound of the Quran on the cylinders , because of the veneration with which one should treat the Quran . This includes the engravings that are in the aforementioned cylinders and there is nothing that prevents this respect being extended to generally accepted lines of writing , except that the latter are perceived with the sense of seeing , known only by the writer , whereas the former are perceived with the sense of hearing , and every listener can hear them , and these are more suitable . As to miniature Quran copies , the writing in them can only be seen with a magnifying instrument . ( 28 ) As for the tablets and the cylinders @ @ @ @ @ @ @ @ @ @ called the \" gramophone . \" And that is why we are of the opinion that the application of analogy in this case is correct , because of the resemblance between the two compared items . Therefore it is incumbent on the person who knows that the Quran is recorded on the cylinders to treat them with veneration , just like the tablets and paper with Quranic text should be treated with veneration . As for touching the cylinders in a state of ritual impurity and to carry them in such a state , from the perspective of the law they should be treated in the same way as tablets and paper on which there is Quranic text . And if the tablets and papers on which is the entire Quran or a part of it are venerated , and it is forbidden to touch or carry them in states of minor or major ritual impurity , why then would the tablets and cylinders of the gramophone not be treated with veneration and would their being carried in a state of ritual impurity not be forbidden , despite the engravings @ @ @ @ @ @ @ @ @ @ more worthy of being called writing than lines of writing because they are a natural writing that happens through the undulating of the air by the reciting of the words by way of the wellknown needle , which faultlessly repeats the speech as the reciter has produced it . As for the well-known writing by hand , it is commonly accepted writing which does not render speech naturally but by description and convention , and sometimes the writer makes mistakes and does not reproduce what is dictated to him . And sometimes the reciter does not properly reproduce what is written . Even if he is able to write it , as the receiver of the recitation he does not vowelize properly . That is why some legal theorists have said that the uninterrupted transmission of the Quran from one generation to another is characteristic of it , not through being reproduced . Thus , we can not say with certainty that our reproducing of this continuous Quran is identical to the way the Prophet , may God bless him and grant him peace , recited the Quran . Had @ @ @ @ @ @ @ @ @ @ Prophet \\'s reciting had been preserved , then we would have certain knowledge about this and it would be considered as continuous . Veneration for the Quran is a duty for certain and to treat it with contempt is a grave sin , and leads to unbelief if it is done on purpose . # The answer to the third question : It is evident that there is no obligation under the law to prostrate when one hears a sajda verse from the loudspeaker of the voice of the reciter , because there is no intention here . The jurists have clearly said that it is not prescribed to prostrate upon hearing the Quran recited by someone who has no intention to recite , such as someone who is sleeping , and this apparatus is an inanimate being , and the quality of being inanimate prevails here . # The answer to the fourth question , namely , whether the listener is rewarded , is that if the listener listens with consideration , attention , understanding , and obedience , then he will be rewarded . Here there is no @ @ @ @ @ @ @ @ @ @ , an angel or a jinn , because the listener has the reward of his listening , and on the basis of that it is said that for listening to the Quran from the gramophone , I mean from the apparatus that speaks the voice of the reciter , the listener is rewarded if he listens well , and he is punished if he listens badly or if he takes the verses of God as play and an idle sport , as there is no difference between hearing from the mouth of a reciter or from the tube of the loudspeaker . # The answer to the fifth question , namely , whether there is a reward for the recorder of the recitation on the tablets of the loudspeaker or whether he is committing a sin by doing that , is that from all that has been mentioned before , it is evident that writing copies of the Quran and tablets and recording sound on the tablets share the same legal ruling . I mean that for the person who intends benefit and reward , there is a remuneration . @ @ @ @ @ @ @ @ @ @ play , there is no remuneration ; on the contrary , he is punished , as the deeds are according to the intentions . My own opinion is that it is more suitable for the reciter that he not record his recitation on the aforementioned cylinders as sound of the Quran , in order to prevent it falling into the hands of people who are not serious and who act contrary to the religion , whereby lack of veneration for the Quran can occur and the recorder of the Quran is the cause thereof . God , praised and exalted is He , knows best . signed by Al-Sayyid \" Abdallah Muhammad Salih al-ZawawI # SCHOLARLY USE OF SNOUCK HURGRONJE \\'S RECORDINGS AND OTHERS # In 1906 Snouck Hurgronje repatriated to the Netherlands on his way to an influential academic career , but he sent his Edison phonograph to Jedda and Mecca , where numerous recordings were made . Most of these contain vocal and instrumental music but there is a modest amount of Quran recordings as well . # Instructions on recording were sent by Snouck Hurgronje from Leiden @ @ @ @ @ @ @ @ @ @ in Batavia . This Arab of Hadrami origin was a shipping agent in the pilgrim transportation trade . His brother Jamal ( \" the old Tadjoedin , \" as he was called in the Dutch colony in Jedda at the time ) lived in Mecca and Jedda , and operated the phonograph according to the instructions that he received . Outside of the pilgrimage season there was plenty of time to indulge in scholarly projects , and Jamal was often sent on errands in the Hijaz . Copies of some of the instructions between the Tadjoedin brothers have been preserved : ( 29 ) Keep the apparatus clean and handle it with care . Keep it in its box . Keep the cylinders in their covers , also after the recording . Mention the name of the performer , or the name of the piece performed . Make twenty cylinders ( qawalib ) with Yamani singing . Make twenty cylinders with pieces by local artists localities between Mecca and Medina are mentioned . Make fourteen cylinders with recitations from the Quran , from the short suras , so that one @ @ @ @ @ @ @ @ @ @ one cylinder . # Snouck Hurgronje \\'s recordings contain in all some sixteen hours of sound , which may constitute the oldest preserved sound of Arabia and Indonesia . One recording session was photographically documented . ( 30 ) In the mid-1990s the Phonogram Archiv of the Austrian Academy of Sciences in Vienna , under the supervision of its then director , Dietrich Schuller , digitized the wax cylinders . Both a rough and an edited version were made , the latter eliminating most of the numerous acoustic irregularities . In 1997 the edited digital audiotape was mastered on sixteen CDs ; there also exists now a compressed version in MP3 format on two CDs of the entire collection . Ownership of the cylinders and the digitized sound was formally transferred on November 6 , 1996 by the Leiden-based foundation Oosters Instituut to Leiden University , with Leiden University Library as the place of deposit for the sound archive . In this way the collection has become available for research . Snouck Hurgronje \\'s notes on some of the music scores and songs from Arabia are preserved in his archive @ @ @ @ @ @ @ @ @ @ ) Although Sayyid\\'Uthman \\'s fatwa on phonography is proof that mechanical reproduction of Quranic recitings was known before 1900 , the Leiden recordings -- datable to 1909 -- seem to be the oldest preserved ones . They comprise slightly less than twenty-three minutes of Quranic recitation ( see the Appendix for a detailed listing ) . # A somewhat younger collection of Quranic recordings on wax cylinders was made in Germany during the First World War . These were made by imams among Muslim prisoners of war who were detained in German prison camps -- Senegalese soldiers who fought in the trenches of northern France for the French army , and soldiers from British India who were recruited by the British . German anthropologists used these Muslim prisoners as informants on Islam and for their research they made sound recordings , including of Quranic recitation , which were preserved . ( 32 ) # A third set of sound recordings dates from slightly later . When the Semiticist Gotthelf Bergstrasser ( 1886-1933 ) visited Cairo between November 1929 and January 1930 to study the recitation of the Quran , ( @ @ @ @ @ @ @ @ @ @ Snouck Hurgronje \\'s private sound collection , then still kept by their owner in his house in Leiden . Bergstrasser had recordings made , and copies of some of his wax cylinders eventually came into the possession of Snouck Hurgronje . Only recently ( 2005 ) was it publicized that part of Bergstrasser \\'s sound recordings and image archive had indeed survived the Second World War . ( 34 ) # CONCLUDING REMARKS # The Muslim jurisprudents with their heated discussions about all aspects of the recording of sound -- of music in general and the phonography of the Quran in particular -- have now fallen silent . The written sediment of all their thinking lies unnoticed in archives and libraries . Most wax cylinders are lost or at best preserved in damaged condition ; the reciters died a long time ago . It would be rare for a modern-day Muslim to ask whether reproducing recitation of the Quran is permitted since it is ubiquitous -- in the taxi , in the barbershop , in teahouses and restaurants , Quranic recital has become a familiar sound . One can buy @ @ @ @ @ @ @ @ @ @ in airports and department stores at reasonable prices . Small audiovisual devices that show the written version in real time with the recitation are also on sale everywhere . If there still exist restrictions on the singing voice of the unrelated woman , the ajnabiyya , it is the continuation of a situation that already was in place long before Edison \\'s ingenious invention . # APPENDIX # Below is a survey of the fourteen requested Quranic recordings , plus one recording of the adhan , made for Snouck Hurgronje in the Hijaz between 1906 and 1909 and held now in the Leiden University Library : recording CD/track cylinder length in minutes Q l 5a/6 H22 2:26 Q i 4b/47 H16 2:29 ( partly ) Q l 2b/43 D18 1:40 Q 2:285-end 2a/2 C 3 2:24 Q 28:21-27 3a/l D21 2:31 Q 41:30-34 ? 3a/22 E16 2:47 Q 93 2a/7 C12 1:47 Q 94 3a/12 E8 2:11 Q 95 3a/12 E8 Q 110 3a/ll E7 2:03 Q 111 3a/ll E7 - Q 112 3a/ll E7 - Q 113 5a/6 H22 - Q 114 5a/6 H22 - adhan , 2a/23 C25 @ @ @ @ @ @ @ @ @ @ 22:01 minutes # JAN JUST WITKAM LEIDEN UNIVERSITY # Authore \\'s note : An earlier version of this article was presented at the workshop \" Corpus Coranicum : Exploratory Workshop into the Beginnings of the Text , \" held November 3-7 , 2005 in Berlin , and later published in Dutch as \" Fatwa \\'s over de fonografie van de koran , \" ZemZem 3 ( 2007 ) : 82-95 , 139-40. # ( 1 . ) On the introduction of the phonograph in the European and Indo-European milieus of the Dutch East Indies , see S. Suryadi , \" The Recording Industry and \\' Regional \\' Culture in Indonesia : The Case of Minangkabau \" ( PhD diss. , Leiden Univ. , 2014 ) , https : **44;0;TOOLONG . See also C. E. S. Gavin , \" The Earliest Voices from the East : Photo-Archaeological Explorations and Tomorrow \\'s Museums , \" Museum ( Unesco , Paris ) 158 ( 1988 ) : 67-80. # ( 2 . ) A promotional film of less than ten minutes entitled \" The Stenographer \\'s Friend or What Was Accomplished by an @ @ @ @ @ @ @ @ @ @ Edison Manufacturing Co. in 1910 , shows an overworked typist no longer able to cope with the mountain of stenographical notes she has to type out . The Edison phonograph brings happiness back to the office . The film is downloadable from the American Memory site of the Library of Congress . # ( 3 . ) Thus given in \" The History of the Edison Cylinder Phonograph , \" available online at http : **58;46;TOOLONG , accessed May 5 , 2013 , but in fact not found as such in Edison \\'s article in North American Review ( see following note ) . # ( 4 . ) T. A. Edison , \" The Phonograph and Its Future , \" North American Review 126 ( 1878 ) : 527-36 , quotation on p. 533 ; available online at http : **79;106;TOOLONG , accessed May 5 , 2013. # ( 5 . ) Beda\\'i \\' -i keshfiyydt ve ikhtira\\'at-i besheri-den : Fonoghrdf tr . A. Rasim ( Istanbul : Baghdadliyan , 1302 11885 ) , 15 pp ; available online at **69;187;TOOLONG . The copy of this rare text in @ @ @ @ @ @ @ @ @ @ texts on aspects of modernity : Ibnurriza Tahir Ken\\'an Ibn al-Rida Tahir Kan\\'an , Hadithat-i tabfiyye ( Natural Phenomena ) , signed at the end by Bashir Fu\\'ad ( Istanbul : Mehran , 1305 1888 ) , 111 pp. ; and Mehmed sevq ! Muhammad Shawqi , Yildirim ve ona qarsi tedabir ( a work on protection against thunderbolts ) ( Dar-i Sa\\'adat : Qarabat ve Qaspar , 1304 1887 ) , 27 pp. # ( 6 . ) Thus called by C. Snouck Hurgronje , Mekka in the Latter Part of the 19th Century : Daily Life , Customs and Learning . The Moslims of the East-Indian Archipelago ( Leiden : Brill , 2007 ; repr. 1931 ed. ) , 268. # ( 7 . ) The rules are summed up in several medieval works , of which the best known is al-Tibyan fi addb hamalat al-Qur\\'an by Yahya b . Sharaf al-Nawawi ( d. 676/1278 ) , of which numerous editions exist and which is regularly being reprinted . It has been translated into English as Etiquette with the Qur\\'an , tr . M. Furber ( Burr Ridge @ @ @ @ @ @ @ @ @ @ ( 8 . ) On the orality of the Quran , see L. Sa\\'Id , al-Jam \\' al-sawti al-awwal li-l-Qur\\'an al-karim , aw al-mushaf almurattal , which was published in Cairo in several editions . There exists a partial English translation by B. Weiss , M. A. Rauf. and M. Berger . The Recited Koran : A History of the First Recorded Version ( Princeton : Darwin , 1975 ) . # ( 9 . ) See Ch . Hirschkind , \" Media and the Qur\\'an , \" in The Encyclopaedia of the Qur\\'an , ed . J. D. McAuliffe ( Leiden : Brill , 2001-2006 ) , 3 : 341-49 ( pp. 343-44 are devoted to the phonograph , with Snouck Hurgronje \\'s article of 1915 as its source ) . Hirschkind places the introduction of the sound recording of the Quranic text within a more general framework of the mechanical reproduction of the Quran , including printing , which is itself extensively treated by M. W. Albin , \" Printing of the Qur\\'an , \" in ibid. , 4 : 264-76. # ( 10 . ) C. Snouck @ @ @ @ @ @ @ @ @ @ Genootschap 42 ( 1900 ) : 393-427 ; repr. in idem , Verspreide geschriften ( Bonn : K. Schroeder , 1923-1927 ) , 2 : 418-47 ; partially publ. in English as \" Islam and the Phonograph , \" The Moslem World 5 ( 1915 ) : 159-65. # ( 11 . ) Ambtelijke adviezen van C. Snouck Hurgronje , 1889-1936 , 3 vols. , ed . E. Gobee and C. Adriaanse ( Den Haag : Martinus Nijhoff , 1957-1965 ) . # ( 12 . ) For Snouck Hurgronje \\'s life , see J. J. Witkam , \" Christiaan Snouck Hurgronje , \" in Orientalist Writers ( = Dictionary of Literary Biography , vol. 366 ) , ed . C. Fitzpatrick and D. A. Tunstall ( Detroit : Gale . 2012 ) . 148-54. # ( 13 . ) On the division of labor in Meccan photography between Snouck Hurgronje and the physician Abd al-Ghaffar , see my introduction in Christiaan Snouck Hurgronje , Mekka in de tweede helft van de negentiende eeuw : Schetsen uit het dagelijks leven ( Amsterdam and Antwerpen : Atlas , 2007 ) . @ @ @ @ @ @ @ @ @ @ recording sessions , which took place in 1905 or 1906 with the Acehnese exile in Batavia , Bentara Muda , and his wife , have been documented in H. T. Damste , \" Memoires van een Atjehschen balling , \" in Letterkunde van de Indische archipel , ed . J. Gonda ( Amsterdam : Elsevier , 1947 ) , 245-70 , especially from p. 263 on . # ( 15 . ) Sayyid \\' Uthman , Fatwa , dated 1 Rabl \\' I 1317 9 July 1899 , found on pp. 2-8 of idem , Tulu \\' badr al-\\'ilm al-murtafa \\' wa-zuhur najm al-sidq al-muntafa \\' \\' aid sihat jawdb hukm al-sawt al-mukhtara \\' ( dated Batavia , 14 Jumada 11317 20 September 1899 ) . The title means something along the lines of \" the rise of the full moon of elevated science and the appearance of the star of useful truth over the correctness of the answer concerning the artificial sound . \" Its somewhat pompous wording already implies a controversy . For Sayyid\\'Uthman in general , see N. J. G. Kaptein , Islam , Colonialism and the @ @ @ @ @ @ @ @ @ @ of Sayyid \\' Uthman ( 1822-1914 ) ( Leiden : Brill , 2014 ) . # ( 16 . ) This latter fatwa is the one translated and analyzed by Snouck Hurgronje in his article on Islam and the phonograph ( 1900 ; Eng . 1915 ) . # ( 17 . ) Muhammad Bakhit Husayn al-Muti\\'I al-Hanafi , lzahat al-wahm wa-izdlat al-ishtihah \\' an risalatay al-funughraf wa-l-sukurtdh ( Cairo 1324 1906-1907 ) , 74 pp , accessible at **27;258;TOOLONG ( under Reference ) . For al-Mutl\\'I , especially his term as Grand Mufti ( 1914-1920 ) , see J. Skovgaard-Petersen , Defining Islam for the Egyptian State : Muftis and Fatwas of the Dar al-Ifta ( Leiden : Brill , 1997 ) , 133-41 ; idem , art . Muhammad Bakhit al-Muti\\'i in EB ( 2018 ) . # ( 18 . ) The wood is , in fact , not mentioned in the Quran , but the major commentaries ( Tafsir al-Jalalayn. al-Kashshaf of al-Zamakhshari ) explain the fire as burning on a piece of wood . The Quranic reference describes the same incident that is mentioned in @ @ @ @ @ @ @ @ @ @ between the Quranic and biblical versions of the story . # ( 19 . ) See the somewhat comic treatment by \\' All b . Muhammad al-Dabba \\' of the concept of emotion in Kitab Fath al-karim al-mannan fi adab hamalat al-Qur\\'an ( Cairo : Matba\\'at al-Mustafa al-Babl al-Halabi , 1353 1934 ) , which is almost literally copied , either through al-Nawawi \\'s Tibyan or directly , from al-Ghazali \\'s Ihyd \\' \\' ulum al-din ( 1 : chap . 8 , Kitab Adab tilawat al-Qur\\'an ; Eng . tr . M. Abul Quasem , The Recitation and Interpretation of the Qur\\'an : Al-Ghazali \\'s Theory London : Kegan Paul International , 1982 , with the reasoning about emotion on pp. 43-44 ) . # ( 20 . ) A draft of the unpublished fatwa was added as an enclosure to al-Zawawi \\'s letter from Malacca , dated 12 Sha\\'ban 1326 8 September 1908 , addressed to C. Snouck Hurgronje , who by then had become a professor in Leiden . It is kept in the Snouck Hurgronje Archive in Leiden University Library , Or . 8952 A : @ @ @ @ @ @ @ @ @ @ . # ( 21 . ) For a survey of his ancestry , early career in Mecca , and the controversies that surrounded him there , see Snouck Hurgronje , Mekka in the Latter Part of the 19th Century , 200 , 204 , 223 , 287 , 301 , 308. # ( 22 . ) I have kept the orthographic peculiarities of the manuscript intact and I have made no attempt at normalization , omitting vowels and such signs as the madda , even when present in the manuscript . I did correct a few obvious mistakes that would otherwise have made the Arabic incomprehensible , which I reference in my notes , and divided the text into paragraphs to facilitate reading . Notes to the Arabic text : 11. 4 , 11 : The word sawt is apparently written with ta \\' marbuta instead of ta \\' 1 . 6 : The canonical orthography of Q 16:43 and 21:7 leaves out the alif in fas\\'alu ; 1 . 7 : the text after al-jawab was apparently added later ; 1 . 9 : the ms has al-usulin instead @ @ @ @ @ @ @ @ @ @ the double vertical strokes is given in the ms as an endnote ; 11. 26 , 27 : the ms twice has an extra alif between lam-alif and the lam in al-alwah ; 1 . 39 : the ms has an extra alif between rd \\' and the hamza of li-l-qari \\' . # ( 23 . ) Al-Zawawi uses both \" gramophone \" ( 11. 13 , 25 , 28 , 36 ) and \" phonograph \" ( 1 . 32 ) . It is possible that he uses them interchangeably , as is often done in the early sources , including those in English . The meaning of ustuwana for wax cylinder , which strictly speaking can only refer to the phonograph , has shifted in modern Arabic usage to \" gramophone record disc . \" Al-Zawawi \\'s use of lawh is not unequivocal . He uses it to denote both \" gramophone record \" and the traditional writing slab . I have translated it as \" tablet , \" but its double meaning can not be maintained in the translation . Al-Zawawi also needs lawh for analogical @ @ @ @ @ @ @ @ @ @ association with the heavenly tablet , al-lawh al-mahfuz , which contains the archetype of the Quranic text . Since the introduction of \" tablet \" for digital devices , the word has acquired a whole new semantic dimension . # ( 24 . ) Q 16:43 and 21:7 . Above , \" being Christians , Mazdeans imajus ) . and others \" may allude to Q 22:17 , which mentions all who will be judged on the day of resurrection . # ( 25 . ) This definition of analogy , taken from al-Qarafi \\'s Tanqih al-fusul fi ikhtisar al-Mahsul fi l-usul ( ed . Tunis 1910 , p. 331. chap . 17 ) , was added by al-ZawawI as an endnote in the Arabic text . # ( 26 . ) Q 6:70. # ( 27 . ) The Arabic word bal , here translated as \" correction , \" indicates that alwah is a writing error . A less literal translation would simply ignore it and read : \" ... because our respect for the paper and the leather ... \" # ( 28 . ) Al-Zawawi gives @ @ @ @ @ @ @ @ @ @ an argument in favor of the phonograph by way of analogy , viz. , if a visual aid is already accepted , then by extension the use of an instrument to hear the Quranic text should be as well . The visual aid , the magnifying glass , is here the core of the reasoning . This passage in al-Zawawi \\'s fatwa , by implication , dates the existence of small Quran copies , to be used with a reading aid , at least to the end of the nineteenth century . Micrography in Islam is much older than that , but the use of magnifying glasses is not attested . For a study of miniature Qurans , see H. Coffey , \" Between Amulet and Devotion : Islamic Miniature Books in the Lilly Library , \" in The Islamic Manuscript Tradition : Ten Centuries of Book Arts in Indiana University Collections , ed . C. Gruber ( Bloomington : Indiana Univ . Press , 2010 ) , 78-115. # ( 29 . ) The letters from the Tadjoedin family to Snouck Hurgronje are in MS Leiden Or . 8952 @ @ @ @ @ @ @ @ @ @ photograph is of a music recording session inside the Dutch consulate in Jedda , taken by the consul N. Scheltema and dated February 1909 . Leiden University Library Or . 26.365 : OI D.47 , reproduced and described in D. Oostdam and J. J. Witkam , West-Arabian Encounters : Fifty Years of Dutch-Arabian Relations in Images ( 1885-1935 ) ( Leiden : Legatum Warnerianum Leiden University Library , 2004 ) , 108-10 . The phonograph depicted is Snouck Hurgronje \\'s Edison Home Phonograph no. 47461 , which is now kept in the Leiden University Library , registered as Or . 27.130 , the original cylinders as Or . 27.131 . The sound can be ordered from the Library . Among recent work done on the sound recorded at Jedda may be mentioned A. van Oostrum , \" Arabic Music in Western Ears : An Account of the Music of the Hejaz at the Turn of the Twentieth Century , \" in Quaderni di Studi Arabi n.s. 7 ( 2012 ) : 127-44 . Work done on the content of the Yemeni songs in MS Leiden Or . 6980 , apparently @ @ @ @ @ @ @ @ @ @ Jean Lambert and Anne Regourd in the second part of their \" Le manuscrit Leyde Or . 6980 \" ( \" Poesies chante\\'es dans le Higaz au debut du XXe siecle : La transcription par un lettre de documents sonores . Edition du texte \" ) , Chroniques du manuscrit au Yemen I Hawliyyat makhtutat al-yaman 24 ( July 2017 ) , 112-216 ( with complete facsimile of the manuscript ) , http : **28;287;TOOLONG # ( 31 . ) MS Leiden Or . 18.097 S 65 . See A. Vrolijk and H. van de Velde , Christiaan Snouck Hurgronje ( 18571936 ) , Orientalist : Catalogue of an Exhibition on the Sesquicentenary of His Birth , 8 February 2007 ( Leiden : Leiden Univ . Library , 2007 ) , 98-99 . Already in December 1906 , Snouck Hurgronje had contacted Willy Foy , director of the **26;317;TOOLONG of Ethnography in Cologne , Germany , to orientate himself on the scholarly use of the sound recordings he was going to commission ( correspondence in MS , Leiden Or . 8952 A. 317 ) . # ( 32 . ) @ @ @ @ @ @ @ @ @ @ 1 . Weltkrieg . Ansichten und Absichten , 2nd ed . ( Berlin : Museum Europaischer Kulturen , 2000 ) . # ( 33 . ) G. Bergstrasser , \" Koranlesung in Kairo : Mit einera Beitrag von K. Huber , \" Der Islam 20 ( 1932 ) : 1-42 ; 21 ( 1933 ) : 110-40. # ( 34 . ) It was announced at the Corpus Coranicum conference , Berlin ( see author \\'s note above ) . For the story behind Bergstrasser \\'s presumedly lost Quran archive , which mostly consists of images , see A. Higgins , \" The Lost Archive , \" The Wall Street Journal , January 12 , 2008 , 14-15. # Please note : Some non-Latin characters were omitted from this \\r\\n'"
            ]
          },
          "metadata": {
            "tags": []
          },
          "execution_count": 4
        }
      ]
    },
    {
      "cell_type": "code",
      "metadata": {
        "colab": {
          "base_uri": "https://localhost:8080/",
          "height": 36
        },
        "id": "W0hFUhgVjjHh",
        "outputId": "5a7cd016-ba3a-4927-d358-9816883e892f"
      },
      "source": [
        "coca_acad[5][:9]"
      ],
      "execution_count": 5,
      "outputs": [
        {
          "output_type": "execute_result",
          "data": {
            "application/vnd.google.colaboratory.intrinsic+json": {
              "type": "string"
            },
            "text/plain": [
              "'@@4000641'"
            ]
          },
          "metadata": {
            "tags": []
          },
          "execution_count": 5
        }
      ]
    },
    {
      "cell_type": "code",
      "metadata": {
        "colab": {
          "base_uri": "https://localhost:8080/",
          "height": 36
        },
        "id": "Uo5jMBCzB0uk",
        "outputId": "00778438-1261-4b4b-d193-6c688a8e6494"
      },
      "source": [
        "coca_acad[1].split('. ')[-3]"
      ],
      "execution_count": 6,
      "outputs": [
        {
          "output_type": "execute_result",
          "data": {
            "application/vnd.google.colaboratory.intrinsic+json": {
              "type": "string"
            },
            "text/plain": [
              "'<p> By Edwin Shneidman <p> <p> Edwin Shneidman is Professor of Thanatology Emeritus at UCLA '"
            ]
          },
          "metadata": {
            "tags": []
          },
          "execution_count": 6
        }
      ]
    },
    {
      "cell_type": "code",
      "metadata": {
        "id": "Qe7QBY7vgRHb",
        "colab": {
          "base_uri": "https://localhost:8080/"
        },
        "outputId": "d9c8ba09-16ae-45db-bf77-f05be6a33902"
      },
      "source": [
        "coca_acad[1].split('.')"
      ],
      "execution_count": 7,
      "outputs": [
        {
          "output_type": "execute_result",
          "data": {
            "text/plain": [
              "['@@4000241 I think it is safe to say that ours is the only dining room in West Los Angeles on whose table -- an eight-foot-long , two-hundred-pound behemoth on which I have taken my meals for many years -- rest piles of photocopies of articles on suicide , all of which were printed in the Encyclopaedia Britannica over the past 220 years ',\n",
              " ' They represent the convergence of two crucially important strands in my own life ',\n",
              " ' Indeed , as I look at the articles , arrayed before me in fanlike tiers , I get the odd feeling that the old oak ruble on which I have eaten so many thousands of dinners has been set not with its customary china and silver but with my intellectual autobiography ',\n",
              " ' <p> My special relationship with the Britannica is of long standing ',\n",
              " ' It is relevant to report that I was a sickly child and stayed home from school a great deal ',\n",
              " ' The reader can readily imagine the sort of boy I was : frail , bookish , and undersized ( I was small to begin with , and continued to shrink , comparatively speaking , as I was double-promoted four @ @ @ @ @ @ @ @ @ @ ) ',\n",
              " ' Our house , fifteen miles and seventy years from the one in which my wife and I live today , resembled those of many Eastern European Jewish immigrant families with intellectual aspirations ',\n",
              " ' There were copies of Shakespeare , Tolstoy , Dostoyevsky , Conrad , and Mann , diligently assembled from the local Lincoln Heights Library \\'s list of \" The 100 Best ',\n",
              " ' \" There was a windup Victrola and records of operatic arias sung by Caruso and Farrar ',\n",
              " \" And in the center of all this -- the jewel in the Shneidman family 's cultural crown-there was the Ninth Edition of the Britannica , enshrined in a Stickley bookcase with glass doors and its own little key \",\n",
              " ' The suite of Craftsman furniture to which the bookcase belonged also included a sofa , a chair , and a table ',\n",
              " ' All of them are in my home today ',\n",
              " ' <p> Among the happiest hours of my childhood were those spent alone at home , circa 1925 ',\n",
              " ' My parents would be working in their clothing store , my brother and sister would be in school , @ @ @ @ @ @ @ @ @ @ , tucked in their 1910 Grand Rapids mahogany bed between two billowy white sheets , listening to Farrar sing Gilda and reading the encyclopedia ',\n",
              " ' I have little doubt that more than half of what I know today I learned from the pages of the Ninth Edition of the Encyclopaedia Britannica ',\n",
              " ' I suspect that this accounts for my essentially nineteenth-century ideas about science ',\n",
              " ' And I muse that my frenetic and nervous way of studying ( or reading or writing ) -- a lifelong habit -- could well be a happy remnant of the fact that my first earnest perusals of \" The Geometry \" or \" Kant \" were interrupted every few minutes by the need to leap out of my parents \\' bed either to change the 78-rpm record or to wind the Victrola ',\n",
              " \" It seems unlikely that I would so deeply love the intellectual life today had I not initially found my young mind 's independence within such a cozy and easeful setting \",\n",
              " \" <p> Fast-forward to 1949 , the year that , quite by accident , I met my life 's second great strand @ @ @ @ @ @ @ @ @ @ at the Brentwood Veterans Administration hospital \",\n",
              " \" On that particular morning I was in the subbasement of the old Los Angeles Hall of Records , in the coroner 's vault , looking at file folders containing the records of certified deaths \",\n",
              " ' The director of my hospital had asked me to prepare letters to two young widows whose husbands had recently committed suicide while they were hospital patients ',\n",
              " \" My intention was to look at the two men 's folders , make some notes , and get back to work \",\n",
              " ' <p> The first folder contained something I had not seen before : a genuine suicide note ',\n",
              " ' The second folder did not ',\n",
              " ' Who could stop at this point ? I looked at several dozen folders ',\n",
              " ' It seemed that every so often I would open a folder -- about one out of every fifteen suicide folders-and find a suicide note ',\n",
              " ' I did a quick count of the folders on one shelf and estimated that I was standing in a room that contained approximately two thousand suicide notes ',\n",
              " ' I felt like a cowpoke who , wandering home @ @ @ @ @ @ @ @ @ @ of oil and is just sober enough to realize he has found his fortune ',\n",
              " \" <p> Had I indulged my initial urge to read the letters right there in the coroner 's vault , I might have learned a good deal about individual human tragedy , but I would have done nothing to advance the study of suicide , which was then an almost nonexistent field \",\n",
              " ' Instead , in a decision that changed my life , I made photocopies of more than seven hundred genuine suicide notes and put them aside without reading them , so that my colleague Norman Farberow and I could later compare them , in blind controlled studies , with simulated suicide notes that would be elicited from nonsuicidal people ',\n",
              " ' The result was the first work on suicide notes -- and indirectly on suicide itself -- that followed scientific protocols ',\n",
              " ' My subsequent career -- helping to found the Los Angeles Suicide Prevention Center , developing a program in suicide prevention for the National Institute of Mental Health , thinking about suicide , writing about suicide -- all dates from that morning in the @ @ @ @ @ @ @ @ @ @ , I have been continuously intrigued by the topic of suicide and drawn to people who are on the brink of serf-destruction ',\n",
              " ' I am not a suicidal person myself ; my fascination is , I suppose , partly voyeuristic and partly scientific ',\n",
              " ' I have always been attracted to excitement , and few things could be more exciting than the pursuit of understanding in a virgin field that involved such strong and intimate human emotions ',\n",
              " ' <p> The reader can surmise what it meant to me , a quarter century after I happened upon those suicide notes , to be invited to contribute my own seven pages of printed text , headed \" Suicide , \" to volume 21 of the 1973 edition of the Encyclopaedia Britannica , the same set of books that once was my Testament , Koran , and Upanishads ',\n",
              " ' <p> I have come close to implying that the Ninth Edition of the Encyclopaedia Britannica was a kind of father figure to me ',\n",
              " ' It is true that I treated those books and the information in them with a respect bordering on awe , that @ @ @ @ @ @ @ @ @ @ cathedra ',\n",
              " ' At that time , all these sentiments were also true of my unquestioned attitudes toward my father ',\n",
              " ' Writing my own article for the EB was a psychological landmark ; it gave me a voice of my own ',\n",
              " ' I suddenly felt like Ernest Pontifex , in The Way of All Flesh , who was finally able to contravene his father without feeling that he was either destroying or betraying him ',\n",
              " ' <p> Before I wrote my 1973 article , I looked at two or three earlier pieces ',\n",
              " \" It did not occur to me then to view them as documents of intellectual history ; I merely wished to identify my predecessors ' pitfalls -- such as an overreliance on dreary tables of statistics -- so I could avoid stepping into them myself \",\n",
              " ' I wrote the article and proudly added the Fourteenth Edition of the Britannica to the Ninth Edition that still reposed in the glass-fronted Stickley bookcase that I had inherited ',\n",
              " ' Two and a half decades passed ',\n",
              " ' Then , as I approached the age of eighty , I had another thought ',\n",
              " \" It was @ @ @ @ @ @ @ @ @ @ unlikely to have in one 's twenties or even fifties , when the habit of looking back is not so fully developed \",\n",
              " \" Why not examine the articles on suicide in all the editions since the first one , in 1768 ? <p> The idea allowed me simultaneously to become , all over again , the unformed child in a soft bed who had learned about the world from his parents ' encyclopedia , and also to read these articles on suicide -- including my own -- and see , from the emancipated vantage point of old age , their flaws , their anachronisms , their generational gaps of knowledge \",\n",
              " \" If the Britannica was the most authoritative popular repository of knowledge during the various eras of its existence , would not its successive treatments of suicide reflect , in a long chronological march , our culture 's changing attitudes toward the subject that had consumed my life ? With the help of the Chicago staff of the EB , the New York Public Library , and Harvard 's Houghton Library , I assembled copies of the encyclopedia 's fourteen @ @ @ @ @ @ @ @ @ @ story -- the attempt , over time , to answer such crucial questions as : Is suicide a sin ? Is it a crime ? Is it the responsibility of the individual or of society ? What causes it ? Can human suffering be reduced to statistics ? How can suicide be prevented ? Should it be prevented ? And that story is what is now spread out , with my wife 's indulgence , all over our dining table \",\n",
              " \" <p> The Encyclopaedia Britannica , while not the first encyclopedia -- its forerunners include the remarkable Encyclopedie ou Dictionnaire raisonne des Sciences , des Arts et des Metiers of Diderot and d'Alembert , published in France starting in 1751 -- has remained the most constant and influential \",\n",
              " ' Its first edition was published in Edinburgh in 1768 ',\n",
              " ' There have been fourteen editions since then , of which the Eleventh Edition , of 1910 , is generally considered the greatest ',\n",
              " ' Roughly speaking , a new edition was published every ten or twenty years ( in the interim there were sometimes several printings with minor variations ) until the @ @ @ @ @ @ @ @ @ @ a half century , there were only relatively modest alterations : some articles were dropped , some added , some contributors replaced ',\n",
              " ' With the Fifteenth Edition , in 1974 , there was a radical restructuring of the overall format of the EB : the timehonored , strictly alphabetical arrangement was dropped in favor of a thesaurus-like approach , including a one-volume Propaedia ( an overview ) , a Micropaedia ( a comprehensive survey ) , and a Macropaedia ( topics discussed in detail ) ',\n",
              " ' The latest version of the Britannica , \" published \" in 1994 , is on CD-ROM -- a hundred pounds of books reduced to about an ounce ',\n",
              " ' <p> There was no article on suicide in the first edition of the Encyclopaedia Britannica ',\n",
              " ' That is understandable ; the word itself was fairly new ',\n",
              " ' ( The words suicide and encyclopedia seem to have a common vintage and perhaps even a common creator ',\n",
              " ' The vintage is the fifth decade of the seventeenth century , 1642 for suicide and 1646 for encyclopedia ; the creator is Sir Thomas Browne , the author of Religio @ @ @ @ @ @ @ @ @ @ Second Edition of the EB was published , it contained a memorable article called \" Self-Murder ',\n",
              " ' \" <p> \" Self-Murder \" is one page long ',\n",
              " ' Whatever else can be said about it , it is not dull ',\n",
              " ' It jerks you awake with the first sentence , hectors and shakes you until the finish , and , at the very end , makes an unconvincing attempt to soften its Draconian stance ',\n",
              " ' It has the smell of fire and brimstone , the sound of a wrathful sermon by Cotton Mather ',\n",
              " ' The article begins with a beautifully expressed but horrendously cruel definition : \" SELF-MURDER , the pretended heroism , but real cowardice , of the Stoic philosophers , who destroyed themselves to avoid those ills which they had not the fortitude to endure , though the attempting it seems to be countenanced by the civil law , yet was punished by the Athenian law with cutting off the hand which committed the desperate deed ',\n",
              " ' \" It continues in a vein that joins the religious and the legal : <p> And also the law of England wisely @ @ @ @ @ @ @ @ @ @ to destroy life but by commission from God and the author of it ; and as the suicide is guilty of a double offence ; one spiritual , in invading the prerogative of the Almighty , and rushing into his immediate presence uncalled for ; the other temporal , against the king , who hath an interest in the preservation of all his subjects ; the law has therefore ranked this among the highest crimes , making it a peculiar species of felony ; a felony committed on one \\'s self ',\n",
              " ' <p> And it concludes with an answer to the obvious question : If the felon is dead , how can human laws punish him ? <p> They can only act upon what he has left behind him , his reputation and fortune ; on the former , by an ignominious burial in the highway , with a stake driven through his body ; or the latter , by a forfeiture of all his goods and chattels to the king , hoping that his care for either his own reputation or the welfare of his family would be some @ @ @ @ @ @ @ @ @ @ act ',\n",
              " ' ',\n",
              " ' ',\n",
              " ' ',\n",
              " \" And tho ' it must be owned that the letter of the law herein borders a little on severity ; yet it is some alleviation , that the power of mitigation is left in the breast of the sovereign , who upon this ( as on all other occasions ) is reminded by the oath of his office , to execute judgment in mercy \",\n",
              " \" <p> The last sentence strikes me as conveying the same dubious comfort as a hangman 's blessing \",\n",
              " \" The anonymous author of this mean-spirited little article -- whose only mention of prevention is its approving note on the custom , prevalent at the time , of besmirching the self-murderer 's reputation and confiscating his worldly goods -- is clearly far more interested in flagellating the suicide than in keeping him alive \",\n",
              " \" <p> By 1788 , when the Third Edition was published , the word suicide had gained sufficient currency to constitute the article 's title \",\n",
              " \" And this time the EB had much more to say : five pages ' worth , starting with a far briefer and more @ @ @ @ @ @ @ @ @ @ , or the person who commits it \",\n",
              " ' \" The first section of the article is a historical survey of suicide among the Jews , the ancient Greeks , the Brahmins , the Hindus , the Japanese , the Scythians , the tribes of Scandinavia , and others ',\n",
              " ' The tone of this report can be gathered from the paragraph on suicide among the Jews : <p> Suicide is one of those crimes which we are led to believe not common among savage nations ',\n",
              " ' The first instances of it recorded in the Jewish history are those of Saul and Ahitophel ; for we do not think the death of Samson a proper example ',\n",
              " ' We have no reason to suppose it became common among the Jews till their wars with the Romans , when multitudes slaughtered themselves that they might not fall alive into the hands of their enemies ',\n",
              " ' But at this period the Jews were a most desperate and abandoned race of men , had corrupted the religion of their fathers , and rejected that pure system which their promised Messiah came to Jerusalem to announce ',\n",
              " ' @ @ @ @ @ @ @ @ @ @ until 1852 ',\n",
              " ' <p> As for the causes of suicide in England , they are ascribed to \" the variableness of the climate , the great use of animal food , strong spiritous liquors and to tea , and to the sulphurous exhalations of the pit-coal used as fuel ',\n",
              " ' ',\n",
              " ' ',\n",
              " ' ',\n",
              " ' We are rather surprised that coal is mentioned even as a distant cause of suicide , for it is one of the blessings of our island ; and a good coal fire we have always found rather conducive to good spirits rather than injurious to them ',\n",
              " ' \" It is rare to find such a cozy passage in the staid pages of the EB ',\n",
              " ' <p> Having disposed of history and causation , the article moves on to the aspects that had constituted the entirety of the 1777 article : the morality and legality of suicide ',\n",
              " ' It reasserts that suicide is a felo-de-se ( a felony against oneself ) , a crime against God and the king ',\n",
              " ' But it ends with a sentence that indicates that the times are changing : \" Suicide , we @ @ @ @ @ @ @ @ @ @ it is a difficult matter to find an effectual remedy ',\n",
              " ' ',\n",
              " ' ',\n",
              " ' ',\n",
              " ' Punishment will not be a preventive , even if it could be always inflicted ; and that it is seldom inflicted , though the laws have decreed it , is well known ',\n",
              " ' \" This Concluding emphasis on prevention , complete with a humble acknowledgment of its difficulty , sounds surprisingly modern ',\n",
              " ' <p> The historical portions of this entry appeared essentially unchanged for sixty-four years in the Fourth ( 1801 ) , Fifth ( 1815 ) , Sixth ( 1820 ) , and Seventh ( 1830 ) Editions ',\n",
              " ' <p> But changes were coming ',\n",
              " ' The entry for \" Suicide \" in the Eighth Edition ( 1852-1860 ) in many ways repeats the contents of the Seventh ',\n",
              " ' However , it is notable for including landmark quotations from two major nineteenth-century intellectual figures ',\n",
              " ' <p> The first quotation is from Henry Thomas Buckle , chess prodigy and scientifically minded historian ',\n",
              " ' Buckle believes that \" the progress of every people is regulated by principles ',\n",
              " ' ',\n",
              " ' ',\n",
              " ' as certain as those which govern the physical @ @ @ @ @ @ @ @ @ @ suicide rates over years and points to the folly of enacting laws against it ',\n",
              " ' He states that <p> suicide is merely the product of the general condition of society , and that the individual only carries into effect what is a necessary consequence of preceding circumstance ',\n",
              " ' ',\n",
              " ' ',\n",
              " ' thus we are able to predict within a small limit of error the number of voluntary deaths for each ensuing period , assuming , of course , that the social circumstances do not undergo marked change ',\n",
              " \" <p> Buckle 's morally neutral stance , which transfers blame from the individual to his society , neatly moves suicide from the purview of religion to that of social science and presages the key role that demography was soon to play in its study \",\n",
              " ' <p> The second quotation is from the great philosopher and economist John Stuart Mill ',\n",
              " ' In his essay \" On Liberty \" -- in which he opposed any legislation that would interfere with the sale of poisons on the ground that it would exert unnecessary state control over individual freedom-he wrote ( and is quoted in the 1860 @ @ @ @ @ @ @ @ @ @ a necessity , but only a danger of mischief , no one but the person himself can judge of the sufficience of the motive which may prompt him to incur the risk of buying poison ',\n",
              " ' In this case therefore ( unless he is a child , or delirious or in some state of excitement or absorption incompatible with the full use of the reflecting faculty ) , he ought , I conceive , be only warned of the danger , not forcibly prevented from exposing himself to it ',\n",
              " \" <p> This prescient paragraph contains the core arguments of current controversies and debates : Do people own their own lives ( and deaths ) , or are we as a society responsible for saving our fellows from their own errors ? <p> Mill 's libertarian voice was destined to be outshouted by the subsequent inundation of articles that concentrated on numbers rather than ethics \",\n",
              " ' The Ninth Edition ( 1875-1889 ) contains a six-page article by Wynnard Hooper , a financial journalist who , tellingly , also wrote the pieces on statistics and population ',\n",
              " ' ( This was the edition @ @ @ @ @ @ @ @ @ @ , remember reading this article then ',\n",
              " ' ) Hooper includes five tables of European suicide statistics and one table for certain American states , and discusses these figures in terms of race , sex , climate , population density , occupations , seasons , and methods of suicide ',\n",
              " ' He concludes that \" it can not be said that any satisfactory result has been obtained from these investigations , owing no doubt to the fact that the phenomenon is too minute to furnish numbers large enough for the proper application of the statistical method ',\n",
              " ' \" His article marks a radical swing to the demographic and statistical approach , reflecting and foreshadowing the work of Morselli , Durkheim , Halbwachs , and Dublin ',\n",
              " ' It cut the pattern for the next hundred years ',\n",
              " ' <p> The Tenth Edition ( 1902 ) contains an unmemorable two-page article , essentially a shortened version of the article in the previous edition , by H',\n",
              " ' H',\n",
              " ' Littlejohn , a professor of forensic medicine at the University of Edinburgh ',\n",
              " ' Littlejohn also wrote the article on suicide in the great Eleventh Edition of 1910 ; @ @ @ @ @ @ @ @ @ @ ',\n",
              " ' Like Buckle and Hooper , Littlejohn regards suicide as \" a sign of the presence of maladies in the body politic which deserve careful consideration ',\n",
              " ' \" He asserts that \" suicide as a whole conforms to certain general laws , and is influenced by conditions other than mere individual circumstances or surroundings ',\n",
              " ' \" His article , mainly concerned with British suicide statistics for the 1880s and 1890s , was repeated in the Twelfth ( 1921 ) and Thirteenth ( 1926 ) Editions ',\n",
              " ' <p> The article on suicide in the Fourteenth Edition ( 1929-1940 ) went through numerous versions in different printings ',\n",
              " ' The first , in 1929 , was a two-page article by S',\n",
              " ' de Jastrzebski , the assistant registrar general of Great Britain , that included updated figures for sex and age and for methods of suicide in England and Wales as well as an interesting and highly topical section on the \" Influence of the World War \" : <p> The following figures for 1911-1914 , 1915-1918 , 1921-1925 , relating as they do to nine of the belligerent countries and two non-belligerents closely @ @ @ @ @ @ @ @ @ @ doubt the profound effect produced upon the suicide-rate by the World War ',\n",
              " ' ',\n",
              " ' ',\n",
              " ' ',\n",
              " ' In every case the war period is marked by a notable decline in the suicide-rate ',\n",
              " ' To the theory that nervous strain is one of the prime causes which lead to self-destruction , they give a complete and emphatic contradiction ',\n",
              " ' <p> The 1955-1961 printings of the Fourteenth Edition contained a short piece by Ruth S',\n",
              " ' Cavan , an American sociologist , which was perhaps the most succinct and most comprehensive to date ',\n",
              " ' Within the compass of a single page , it includes pithy paragraphs on a variety of subtopics : international comparisons ; age , sex , and marital conditions ; urban-rural rates ; methods of suicide ; suicide and other means of violent death ; and interpretations ',\n",
              " ' Cavan concludes : <p> Although suicide rates differ with various social conditions , the explanation does not lie in external forces but in the attitudes and emotions of people ',\n",
              " ' ',\n",
              " ' ',\n",
              " ' ',\n",
              " ' Some people are subjected to greater social pressures than others ',\n",
              " ' Finally , some countries provide more adequate guidance and @ @ @ @ @ @ @ @ @ @ may turn for help ',\n",
              " \" <p> This brief bit of wisdom touches both the inner and the outer worlds of suicide with more empathy than any of Cavan 's predecessors had shown \",\n",
              " ' <p> My turn came in 1973 , in an article that deliberately owed little to its forerunners ',\n",
              " ' Its seven pages contained not a single statistical table ',\n",
              " \" ( As I reread them in the company of the other articles on my dining table , I felt that in my urge to rescue the study of suicide from the numbing forces of statistics , I had gone too far and given short shrift to the field 's legitimate demographic aspects \",\n",
              " ' ) The sections included : definition , complexities of definitions , major threads of study , psychological characteristics of suicide , attempted suicide , partial death and substitutes for suicide , suicide and religion , suicide and the law , myths about suicide , romantic suicide and the artist , statistics on suicide , suicide notes , and **35;476;TOOLONG ',\n",
              " \" <p> One example will suffice to convey the article 's general tenor \",\n",
              " ' Under \" Main @ @ @ @ @ @ @ @ @ @ about the locus of blame for suicide ',\n",
              " \" Saint Augustine and Saint Thomas Aquinas called suicide a grievous sin and located its source within the deficient person ; Rousseau emphasized the natural and innocent state of man and transferred the locus of blame from man to society ; Hume tried to sanitize suicide entirely by arguing that it was neither a crime nor a sin ; Durkheim focused on society 's inimical effects on the individual ; and Freud , eschewing the notions of sin and crime , gave suicide back to the individual but put the main locus of action in the unconscious mind \",\n",
              " ' In other words , I attempted to present a variety of views on suicide instead of the single opinions that had dominated most of the earlier articles ',\n",
              " \" My own expressed opinion is that each instance of suicide is a multidimensional event ( with biological , physiological , sociocultural , and existential components ) , but that the main trunk of the suicidal tree is the psychological drama that occurs in the individual 's mind : the need to escape from unbearable psychological pain @ @ @ @ @ @ @ @ @ @ of death or cessation as the effective exit \",\n",
              " ' Here is the heart of what -- now that I have read all the earlier articles -- I feel the EB had previously omitted : a recognition of suicide as a response to individual human suffering , a tragedy that befalls real people ',\n",
              " ' <p> This article had a noteworthy personal consequence ',\n",
              " ' For many years -- from 1950 , when I met him , until his death in 1988 at the age of ninety-five -- the psychological epicenter of my intellectual life was Henry A',\n",
              " ' Murray : physician , psychoanalyst , biologist , Melville scholar , director of the Harvard Psychological Clinic , and author of Explorations in Personality ',\n",
              " ' ( There is a marvelous portrait of Henry Murray in the winter 1969 issue of THE AMERICAN SCHOLAR , by then-editor Hiram Haydn ',\n",
              " \" ) Murray 's peerless writings influenced me more than any others , and I tried to spend as much time as possible in his presence \",\n",
              " ' I was at Harvard for two extended stays -- as research associate in the early sixties and as visiting professor @ @ @ @ @ @ @ @ @ @ as often as I could arrange it ',\n",
              " \" It was one of life 's high privileges for me to know him and to be made , by him , much more than I otherwise could have been \",\n",
              " ' <p> In 1963 , in a paper about Melville titled \" Dead to the World , \" Murray had defined suicide as \" no more than an urgently felt necessity to stop unbearable anguish , that is , to obtain relief by interrupting the stream of suffering ',\n",
              " ' \" He asked : \" For what is suicide in most instances but an action to put an end to intolerable affect ? \" You can see right away that my main ideas about the central role in suicide of psychological pain and negative emotions all flow from his fountain ',\n",
              " ' In any event , in February 1973 , Harry wrote me : <p> Your encyclopaedia article is masterful ',\n",
              " ' ',\n",
              " ' ',\n",
              " ' handsomely written to a marked extent in your own terminology ',\n",
              " \" I could n't help thinking that this was possibly the timely moment to consider a shift in focus of spirit and @ @ @ @ @ @ @ @ @ @ paragraph changed my life \",\n",
              " ' I knew Harry well enough to put aside his hyperbolic praise and to know that the real meat of that paragraph -- his covertly intended message -- lay in the serious criticism implied in the second sentence ',\n",
              " ' He was telling me what I already knew inside : that I was temporarily burned out on the topic of suicide and ought to consider a shift of focus for a while ',\n",
              " \" Harry 's note resonated with my own suspicion , which I had not fully admitted to myself until I read his words , that my EB article had been a mite too discursive and idiosyncratic \",\n",
              " ' Accordingly , I shifted my clinical focus from patients who were suicidal to cancer patients who were coming to death unwillingly ',\n",
              " ' I transformed myself from clinical suicidologist to clinical thanatologist , someone who deals with illness and mourning ',\n",
              " ' When I returned to suicide a few years later , I believe I did so with a refreshed vision of self-destruction as well as a better understanding of the dynamics involved in the wrestling match with death ',\n",
              " ' @ @ @ @ @ @ @ @ @ @ <p> My piece was superseded in the Fifteenth Edition ( 1974-1984 ) by a wise and comprehensive five-page article by the late Erwin Stengel , professor of psychiatry at the University of Sheffield ',\n",
              " ' Its most innovative section is headed \" Suicide in the Future , \" and Stengel \\'s predictions are not particularly rosy ',\n",
              " ' He writes : <p> It is difficult to imagine man in the future without this potential , which has sometimes been proclaimed as one of the basic human freedoms ',\n",
              " ' There are no prospects of an antisuicidal substance in the foreseeable future ',\n",
              " ' There are certain aspects of present-day society that make a decline in the incidence of suicidal acts unlikely including the increased number of the aged ',\n",
              " ' ',\n",
              " ' ',\n",
              " ' the young who are more openly aggressive ',\n",
              " ' ',\n",
              " ' ',\n",
              " ' the continued increase in population ',\n",
              " ' The outlook for suicide would be very black indeed if it were not for the strong urge to self-preservation inherent in the individual and in society ',\n",
              " ' The emergence of nonprofessional movements toward self-help in the struggle against suicide can be seen as a manifestation of this @ @ @ @ @ @ @ @ @ @ he thoroughly understood the value of statistics , also understood that suicide is a philosophical act ',\n",
              " ' This is manifestly an encyclopedia article and not a novel ',\n",
              " \" But Stengel 's empathetic sadness , deepened by his own background as a refugee from the Nazis , clearly shows through his prose and , in my view , makes it finer \",\n",
              " \" Inexplicably , there are printings of the Fifteenth Edition in which Stengel 's indispensable essay on suicide does not appear \",\n",
              " ' In these cases , I strongly advise the reader to seek another printing ',\n",
              " \" <p> In the 1985-1997 printings of the Fifteenth Edition there is a half-page article in the Micropaedia ( Stengel 's piece is in the Macropaedia ) \",\n",
              " ' Its concluding paragraph is especially topical : <p> No single approach can be expected to succeed in substantially reducing the incidence of suicide , but early detection and treatment of mental disorders are important deterrents ',\n",
              " ' Since the 1950s special centres and organizations for the prevention of suicide have been created in many countries ',\n",
              " ' ',\n",
              " ' ',\n",
              " ' ',\n",
              " ' The telephone is commonly used as a means of @ @ @ @ @ @ @ @ @ @ and advisers who are available by day and night ',\n",
              " ' There is evidence that this kind of service may help to avert suicidal acts ',\n",
              " ' <p> The Encyclopaedia Britannica -- along with our society -- has obviously traveled several light-years since 1777 , when it excoriated suicide as cowardly , sinful , illegal , and shameful ',\n",
              " ' The emphasis has shifted to the question , \" How can we help ? \" <p> My march through the centuries is complete , but a few ideas still swirl in the wake of my dual obsessions , suicide and the EB ',\n",
              " ' The first idea is that there might be something to learn from similar Britannica surveys of other socially sensitive tag words ',\n",
              " ' One might look , from 1768 ( or whenever the word first appears ) to the present date , at Addiction , Adultery , Childhood , Homosexuality , Insanity , and so forth ',\n",
              " ' Scholars in different fields could suggest candidates for the word list ',\n",
              " ' Put together , these would yield a lexicographic history of the past two centuries that might give some fresh insights into the @ @ @ @ @ @ @ @ @ @ returns to the study of suicide ',\n",
              " ' Why not take a look at the word in dictionaries of the past couple of hundred years ? Authoritative definitions are important ',\n",
              " ' Indeed , dictionaries might provide us with a microcosm of what was happening in the encyclopedias of their times ',\n",
              " \" <p> I believe I have good reason , beyond the fact that it is my own field , to think that our society 's views of suicide are important to all of us \",\n",
              " ' I learned from a study I once did with the coroner of Marin County , California , that more than a quarter of all deaths -- all deaths , not just overt suicides -- are probably interlaced with threads of imprudence , disregard , excess , indifference , or ennui that bring an end to life sooner than is necessary ',\n",
              " ' In other words , some people who have died what I call \" subintentioned deaths \" from heart attacks or automobile accidents may have a good deal in common with people who are termed \" suicides ',\n",
              " ' \" In that sense alone , suicide is @ @ @ @ @ @ @ @ @ @ risk of moving up the dates on our own tombstones ',\n",
              " ' <p> The definition of any important term such as suicide gives it power-and also gives it honorific , neutral , or pejorative overtones ',\n",
              " ' Denotation influences connotation ',\n",
              " \" The connotative meanings of a word govern society 's responses to it \",\n",
              " ' These community responses can cover a wide range : in the case of suicide , one extreme includes scorn , indifference , and punishment , and the other extreme includes empathy and therapy ',\n",
              " ' And even within the realm of therapy , the very modalities are influenced by definition ',\n",
              " \" Whether the therapeutic response is primarily pharmacological ( pills ) , surgical ( lobotomy ) , electrical ( shock ) , institutional ( hospitalization ) , or psychodynamic ( talk ) -- differences that are not trivial-may depend on the inner , unspoken definition of suicide and its connotative associations that one 's physician happens to hold \",\n",
              " ' <p> Anthropologically speaking , dictionaries and encyclopedias are the two key books in any literate society ',\n",
              " ' Each of us lives within ( or rebels against ) the reigning mores @ @ @ @ @ @ @ @ @ @ words ',\n",
              " ' Much of our English-American Zeitgeist is reflected in the long history of the Encyclopaedia Britannica ',\n",
              " ' As I look at the piles of articles fanned out on my dining table , I feel that the pages , though they all deal with death , are in some sense alive , and that they are spreading their exhalations into many vast and tiny places ',\n",
              " ' <p> By Edwin Shneidman <p> <p> Edwin Shneidman is Professor of Thanatology Emeritus at UCLA ',\n",
              " ' He was the founder , in 1968 , of the American Association of Suicidology , and is the author of Deaths of Man , Voices of Death , Definition of Suicide , and The Suicidal Mind ',\n",
              " ' <p> \\r\\n']"
            ]
          },
          "metadata": {
            "tags": []
          },
          "execution_count": 7
        }
      ]
    },
    {
      "cell_type": "code",
      "metadata": {
        "colab": {
          "base_uri": "https://localhost:8080/"
        },
        "id": "mK4G0RRdBdek",
        "outputId": "9f58e5c5-bc2a-4bce-e92f-7829c5a98e34"
      },
      "source": [
        "len(coca_acad[1].split('.')[65]) "
      ],
      "execution_count": null,
      "outputs": [
        {
          "output_type": "execute_result",
          "data": {
            "text/plain": [
              "1"
            ]
          },
          "metadata": {
            "tags": []
          },
          "execution_count": 20
        }
      ]
    },
    {
      "cell_type": "code",
      "metadata": {
        "id": "LZAMBhuRgaQx"
      },
      "source": [
        "BeautifulSoup(coca_acad[1], 'lxml').text.split('. ')"
      ],
      "execution_count": null,
      "outputs": []
    },
    {
      "cell_type": "code",
      "metadata": {
        "id": "nnMJ_Iv5BAC-"
      },
      "source": [
        "# 문서 단위로 적용하는게 빠른 html 태그 전처리\n",
        "# 문장단위로 나누고, 태그 달아서 저장하는 작업\n",
        "from bs4 import BeautifulSoup\n",
        "\n",
        "sentences = []\n",
        "for i in range(1,len(coca_acad)):\n",
        "  cleaned_text = BeautifulSoup(coca_acad[i], 'lxml').text\n",
        "  doc_tag = cleaned_text [:9]\n",
        "  splitted = cleaned_text.split('. ')\n",
        "  splitted = filter(lambda x : len(x) > 10, splitted)\n",
        "  splitted = filter(lambda x : \"@ @ @ @ @ @ \" not in x, splitted)\n",
        "  new_sen = [doc_tag + '@' + sen if i > 0 else sen for i, sen in enumerate(splitted)] #if-else가 for보다 먼저\n",
        "  sentences.extend(new_sen)\n",
        "\n",
        "# 문제점: 문서별로 제일 앞에있는 문장은 원래도 태그가 있어서 태그가 두번 붙여짐.. => if-else로 해결"
      ],
      "execution_count": 16,
      "outputs": []
    },
    {
      "cell_type": "code",
      "metadata": {
        "colab": {
          "base_uri": "https://localhost:8080/"
        },
        "id": "jCw8RpUrlFxw",
        "outputId": "a0a3e938-ca1e-4c5b-95a7-c0b65be6d324"
      },
      "source": [
        "sentences[:100]"
      ],
      "execution_count": 17,
      "outputs": [
        {
          "output_type": "execute_result",
          "data": {
            "text/plain": [
              "['@@4000241 I think it is safe to say that ours is the only dining room in West Los Angeles on whose table -- an eight-foot-long , two-hundred-pound behemoth on which I have taken my meals for many years -- rest piles of photocopies of articles on suicide , all of which were printed in the Encyclopaedia Britannica over the past 220 years ',\n",
              " '@@4000241@They represent the convergence of two crucially important strands in my own life ',\n",
              " '@@4000241@Indeed , as I look at the articles , arrayed before me in fanlike tiers , I get the odd feeling that the old oak ruble on which I have eaten so many thousands of dinners has been set not with its customary china and silver but with my intellectual autobiography ',\n",
              " '@@4000241@ My special relationship with the Britannica is of long standing ',\n",
              " '@@4000241@It is relevant to report that I was a sickly child and stayed home from school a great deal ',\n",
              " '@@4000241@Our house , fifteen miles and seventy years from the one in which my wife and I live today , resembled those of many Eastern European Jewish immigrant families with intellectual aspirations ',\n",
              " '@@4000241@There were copies of Shakespeare , Tolstoy , Dostoyevsky , Conrad , and Mann , diligently assembled from the local Lincoln Heights Library \\'s list of \" The 100 Best ',\n",
              " '@@4000241@\" There was a windup Victrola and records of operatic arias sung by Caruso and Farrar ',\n",
              " \"@@4000241@And in the center of all this -- the jewel in the Shneidman family 's cultural crown-there was the Ninth Edition of the Britannica , enshrined in a Stickley bookcase with glass doors and its own little key \",\n",
              " '@@4000241@The suite of Craftsman furniture to which the bookcase belonged also included a sofa , a chair , and a table ',\n",
              " '@@4000241@All of them are in my home today ',\n",
              " '@@4000241@ Among the happiest hours of my childhood were those spent alone at home , circa 1925 ',\n",
              " '@@4000241@I have little doubt that more than half of what I know today I learned from the pages of the Ninth Edition of the Encyclopaedia Britannica ',\n",
              " '@@4000241@I suspect that this accounts for my essentially nineteenth-century ideas about science ',\n",
              " '@@4000241@And I muse that my frenetic and nervous way of studying ( or reading or writing ) -- a lifelong habit -- could well be a happy remnant of the fact that my first earnest perusals of \" The Geometry \" or \" Kant \" were interrupted every few minutes by the need to leap out of my parents \\' bed either to change the 78-rpm record or to wind the Victrola ',\n",
              " \"@@4000241@It seems unlikely that I would so deeply love the intellectual life today had I not initially found my young mind 's independence within such a cozy and easeful setting \",\n",
              " \"@@4000241@On that particular morning I was in the subbasement of the old Los Angeles Hall of Records , in the coroner 's vault , looking at file folders containing the records of certified deaths \",\n",
              " '@@4000241@The director of my hospital had asked me to prepare letters to two young widows whose husbands had recently committed suicide while they were hospital patients ',\n",
              " \"@@4000241@My intention was to look at the two men 's folders , make some notes , and get back to work \",\n",
              " '@@4000241@ The first folder contained something I had not seen before : a genuine suicide note ',\n",
              " '@@4000241@The second folder did not ',\n",
              " '@@4000241@Who could stop at this point ? I looked at several dozen folders ',\n",
              " '@@4000241@It seemed that every so often I would open a folder -- about one out of every fifteen suicide folders-and find a suicide note ',\n",
              " '@@4000241@I did a quick count of the folders on one shelf and estimated that I was standing in a room that contained approximately two thousand suicide notes ',\n",
              " \"@@4000241@ Had I indulged my initial urge to read the letters right there in the coroner 's vault , I might have learned a good deal about individual human tragedy , but I would have done nothing to advance the study of suicide , which was then an almost nonexistent field \",\n",
              " '@@4000241@Instead , in a decision that changed my life , I made photocopies of more than seven hundred genuine suicide notes and put them aside without reading them , so that my colleague Norman Farberow and I could later compare them , in blind controlled studies , with simulated suicide notes that would be elicited from nonsuicidal people ',\n",
              " '@@4000241@The result was the first work on suicide notes -- and indirectly on suicide itself -- that followed scientific protocols ',\n",
              " '@@4000241@I am not a suicidal person myself ; my fascination is , I suppose , partly voyeuristic and partly scientific ',\n",
              " '@@4000241@I have always been attracted to excitement , and few things could be more exciting than the pursuit of understanding in a virgin field that involved such strong and intimate human emotions ',\n",
              " '@@4000241@ The reader can surmise what it meant to me , a quarter century after I happened upon those suicide notes , to be invited to contribute my own seven pages of printed text , headed \" Suicide , \" to volume 21 of the 1973 edition of the Encyclopaedia Britannica , the same set of books that once was my Testament , Koran , and Upanishads ',\n",
              " '@@4000241@ I have come close to implying that the Ninth Edition of the Encyclopaedia Britannica was a kind of father figure to me ',\n",
              " '@@4000241@At that time , all these sentiments were also true of my unquestioned attitudes toward my father ',\n",
              " '@@4000241@Writing my own article for the EB was a psychological landmark ; it gave me a voice of my own ',\n",
              " '@@4000241@I suddenly felt like Ernest Pontifex , in The Way of All Flesh , who was finally able to contravene his father without feeling that he was either destroying or betraying him ',\n",
              " '@@4000241@ Before I wrote my 1973 article , I looked at two or three earlier pieces ',\n",
              " \"@@4000241@It did not occur to me then to view them as documents of intellectual history ; I merely wished to identify my predecessors ' pitfalls -- such as an overreliance on dreary tables of statistics -- so I could avoid stepping into them myself \",\n",
              " '@@4000241@I wrote the article and proudly added the Fourteenth Edition of the Britannica to the Ninth Edition that still reposed in the glass-fronted Stickley bookcase that I had inherited ',\n",
              " '@@4000241@Two and a half decades passed ',\n",
              " '@@4000241@Then , as I approached the age of eighty , I had another thought ',\n",
              " \"@@4000241@Why not examine the articles on suicide in all the editions since the first one , in 1768 ?  The idea allowed me simultaneously to become , all over again , the unformed child in a soft bed who had learned about the world from his parents ' encyclopedia , and also to read these articles on suicide -- including my own -- and see , from the emancipated vantage point of old age , their flaws , their anachronisms , their generational gaps of knowledge \",\n",
              " \"@@4000241@ The Encyclopaedia Britannica , while not the first encyclopedia -- its forerunners include the remarkable Encyclopedie ou Dictionnaire raisonne des Sciences , des Arts et des Metiers of Diderot and d'Alembert , published in France starting in 1751 -- has remained the most constant and influential \",\n",
              " '@@4000241@Its first edition was published in Edinburgh in 1768 ',\n",
              " '@@4000241@There have been fourteen editions since then , of which the Eleventh Edition , of 1910 , is generally considered the greatest ',\n",
              " '@@4000241@With the Fifteenth Edition , in 1974 , there was a radical restructuring of the overall format of the EB : the timehonored , strictly alphabetical arrangement was dropped in favor of a thesaurus-like approach , including a one-volume Propaedia ( an overview ) , a Micropaedia ( a comprehensive survey ) , and a Macropaedia ( topics discussed in detail ) ',\n",
              " '@@4000241@The latest version of the Britannica , \" published \" in 1994 , is on CD-ROM -- a hundred pounds of books reduced to about an ounce ',\n",
              " '@@4000241@ There was no article on suicide in the first edition of the Encyclopaedia Britannica ',\n",
              " '@@4000241@That is understandable ; the word itself was fairly new ',\n",
              " '@@4000241@( The words suicide and encyclopedia seem to have a common vintage and perhaps even a common creator ',\n",
              " '@@4000241@\"  \" Self-Murder \" is one page long ',\n",
              " '@@4000241@Whatever else can be said about it , it is not dull ',\n",
              " '@@4000241@It jerks you awake with the first sentence , hectors and shakes you until the finish , and , at the very end , makes an unconvincing attempt to soften its Draconian stance ',\n",
              " '@@4000241@It has the smell of fire and brimstone , the sound of a wrathful sermon by Cotton Mather ',\n",
              " '@@4000241@The article begins with a beautifully expressed but horrendously cruel definition : \" SELF-MURDER , the pretended heroism , but real cowardice , of the Stoic philosophers , who destroyed themselves to avoid those ills which they had not the fortitude to endure , though the attempting it seems to be countenanced by the civil law , yet was punished by the Athenian law with cutting off the hand which committed the desperate deed ',\n",
              " \"@@4000241@And tho ' it must be owned that the letter of the law herein borders a little on severity ; yet it is some alleviation , that the power of mitigation is left in the breast of the sovereign , who upon this ( as on all other occasions ) is reminded by the oath of his office , to execute judgment in mercy \",\n",
              " \"@@4000241@ The last sentence strikes me as conveying the same dubious comfort as a hangman 's blessing \",\n",
              " \"@@4000241@The anonymous author of this mean-spirited little article -- whose only mention of prevention is its approving note on the custom , prevalent at the time , of besmirching the self-murderer 's reputation and confiscating his worldly goods -- is clearly far more interested in flagellating the suicide than in keeping him alive \",\n",
              " \"@@4000241@ By 1788 , when the Third Edition was published , the word suicide had gained sufficient currency to constitute the article 's title \",\n",
              " '@@4000241@\" The first section of the article is a historical survey of suicide among the Jews , the ancient Greeks , the Brahmins , the Hindus , the Japanese , the Scythians , the tribes of Scandinavia , and others ',\n",
              " '@@4000241@The tone of this report can be gathered from the paragraph on suicide among the Jews :  Suicide is one of those crimes which we are led to believe not common among savage nations ',\n",
              " '@@4000241@The first instances of it recorded in the Jewish history are those of Saul and Ahitophel ; for we do not think the death of Samson a proper example ',\n",
              " '@@4000241@We have no reason to suppose it became common among the Jews till their wars with the Romans , when multitudes slaughtered themselves that they might not fall alive into the hands of their enemies ',\n",
              " '@@4000241@But at this period the Jews were a most desperate and abandoned race of men , had corrupted the religion of their fathers , and rejected that pure system which their promised Messiah came to Jerusalem to announce ',\n",
              " '@@4000241@ As for the causes of suicide in England , they are ascribed to \" the variableness of the climate , the great use of animal food , strong spiritous liquors and to tea , and to the sulphurous exhalations of the pit-coal used as fuel ',\n",
              " '@@4000241@We are rather surprised that coal is mentioned even as a distant cause of suicide , for it is one of the blessings of our island ; and a good coal fire we have always found rather conducive to good spirits rather than injurious to them ',\n",
              " '@@4000241@\" It is rare to find such a cozy passage in the staid pages of the EB ',\n",
              " '@@4000241@ Having disposed of history and causation , the article moves on to the aspects that had constituted the entirety of the 1777 article : the morality and legality of suicide ',\n",
              " '@@4000241@It reasserts that suicide is a felo-de-se ( a felony against oneself ) , a crime against God and the king ',\n",
              " '@@4000241@Punishment will not be a preventive , even if it could be always inflicted ; and that it is seldom inflicted , though the laws have decreed it , is well known ',\n",
              " '@@4000241@\" This Concluding emphasis on prevention , complete with a humble acknowledgment of its difficulty , sounds surprisingly modern ',\n",
              " '@@4000241@ The historical portions of this entry appeared essentially unchanged for sixty-four years in the Fourth ( 1801 ) , Fifth ( 1815 ) , Sixth ( 1820 ) , and Seventh ( 1830 ) Editions ',\n",
              " '@@4000241@ But changes were coming ',\n",
              " '@@4000241@The entry for \" Suicide \" in the Eighth Edition ( 1852-1860 ) in many ways repeats the contents of the Seventh ',\n",
              " '@@4000241@However , it is notable for including landmark quotations from two major nineteenth-century intellectual figures ',\n",
              " '@@4000241@ The first quotation is from Henry Thomas Buckle , chess prodigy and scientifically minded historian ',\n",
              " '@@4000241@Buckle believes that \" the progress of every people is regulated by principles ',\n",
              " '@@4000241@He states that  suicide is merely the product of the general condition of society , and that the individual only carries into effect what is a necessary consequence of preceding circumstance ',\n",
              " '@@4000241@thus we are able to predict within a small limit of error the number of voluntary deaths for each ensuing period , assuming , of course , that the social circumstances do not undergo marked change ',\n",
              " \"@@4000241@ Buckle 's morally neutral stance , which transfers blame from the individual to his society , neatly moves suicide from the purview of religion to that of social science and presages the key role that demography was soon to play in its study \",\n",
              " '@@4000241@ The second quotation is from the great philosopher and economist John Stuart Mill ',\n",
              " '@@4000241@In this case therefore ( unless he is a child , or delirious or in some state of excitement or absorption incompatible with the full use of the reflecting faculty ) , he ought , I conceive , be only warned of the danger , not forcibly prevented from exposing himself to it ',\n",
              " \"@@4000241@ This prescient paragraph contains the core arguments of current controversies and debates : Do people own their own lives ( and deaths ) , or are we as a society responsible for saving our fellows from their own errors ?  Mill 's libertarian voice was destined to be outshouted by the subsequent inundation of articles that concentrated on numbers rather than ethics \",\n",
              " '@@4000241@The Ninth Edition ( 1875-1889 ) contains a six-page article by Wynnard Hooper , a financial journalist who , tellingly , also wrote the pieces on statistics and population ',\n",
              " '@@4000241@) Hooper includes five tables of European suicide statistics and one table for certain American states , and discusses these figures in terms of race , sex , climate , population density , occupations , seasons , and methods of suicide ',\n",
              " '@@4000241@He concludes that \" it can not be said that any satisfactory result has been obtained from these investigations , owing no doubt to the fact that the phenomenon is too minute to furnish numbers large enough for the proper application of the statistical method ',\n",
              " '@@4000241@\" His article marks a radical swing to the demographic and statistical approach , reflecting and foreshadowing the work of Morselli , Durkheim , Halbwachs , and Dublin ',\n",
              " '@@4000241@It cut the pattern for the next hundred years ',\n",
              " '@@4000241@ The Tenth Edition ( 1902 ) contains an unmemorable two-page article , essentially a shortened version of the article in the previous edition , by H',\n",
              " '@@4000241@Littlejohn , a professor of forensic medicine at the University of Edinburgh ',\n",
              " '@@4000241@Like Buckle and Hooper , Littlejohn regards suicide as \" a sign of the presence of maladies in the body politic which deserve careful consideration ',\n",
              " '@@4000241@\" He asserts that \" suicide as a whole conforms to certain general laws , and is influenced by conditions other than mere individual circumstances or surroundings ',\n",
              " '@@4000241@\" His article , mainly concerned with British suicide statistics for the 1880s and 1890s , was repeated in the Twelfth ( 1921 ) and Thirteenth ( 1926 ) Editions ',\n",
              " '@@4000241@ The article on suicide in the Fourteenth Edition ( 1929-1940 ) went through numerous versions in different printings ',\n",
              " '@@4000241@The first , in 1929 , was a two-page article by S',\n",
              " '@@4000241@In every case the war period is marked by a notable decline in the suicide-rate ',\n",
              " '@@4000241@To the theory that nervous strain is one of the prime causes which lead to self-destruction , they give a complete and emphatic contradiction ',\n",
              " '@@4000241@ The 1955-1961 printings of the Fourteenth Edition contained a short piece by Ruth S',\n",
              " '@@4000241@Cavan , an American sociologist , which was perhaps the most succinct and most comprehensive to date ',\n",
              " '@@4000241@Within the compass of a single page , it includes pithy paragraphs on a variety of subtopics : international comparisons ; age , sex , and marital conditions ; urban-rural rates ; methods of suicide ; suicide and other means of violent death ; and interpretations ',\n",
              " '@@4000241@Cavan concludes :  Although suicide rates differ with various social conditions , the explanation does not lie in external forces but in the attitudes and emotions of people ',\n",
              " '@@4000241@Some people are subjected to greater social pressures than others ']"
            ]
          },
          "metadata": {
            "tags": []
          },
          "execution_count": 17
        }
      ]
    },
    {
      "cell_type": "code",
      "metadata": {
        "id": "faJRjuNRJhO6"
      },
      "source": [
        "import re\n",
        "def cleaning(text): \n",
        "  repl =''   #repl = replacement 지운 문자를 이걸로 바꾸기\n",
        "  #text = re.sub(pattern= '[^\\w\\s]', repl=repl, string=text) # 특수문자 제거 (\\w는 whitespace, \\s는 문자/숫자)  => @@ 빼고지워야되는데 같이 지워져버림...\n",
        "  #text = re.sub(pattern= '(<([^>]+)>)', repl=repl, string=text) # html 태그 제거 '<[^>]*>' '<.*?>' 셋 다 <>만 지워지고 p는 남음   # beautifulsoup로 해결..\n",
        "  \n",
        "  text = text.lower() # to lowercase\n",
        "  return text"
      ],
      "execution_count": 18,
      "outputs": []
    },
    {
      "cell_type": "code",
      "metadata": {
        "colab": {
          "base_uri": "https://localhost:8080/",
          "height": 36
        },
        "id": "I7rfgjqPcKFC",
        "outputId": "6a6006aa-48b3-4928-9f6a-eb1360d9193d"
      },
      "source": [
        "coca_acad[1].split('. ')[-3]"
      ],
      "execution_count": null,
      "outputs": [
        {
          "output_type": "execute_result",
          "data": {
            "application/vnd.google.colaboratory.intrinsic+json": {
              "type": "string"
            },
            "text/plain": [
              "'<p> By Edwin Shneidman <p> <p> Edwin Shneidman is Professor of Thanatology Emeritus at UCLA '"
            ]
          },
          "metadata": {
            "tags": []
          },
          "execution_count": 38
        }
      ]
    },
    {
      "cell_type": "code",
      "metadata": {
        "id": "ZsvHz4tza1On",
        "colab": {
          "base_uri": "https://localhost:8080/"
        },
        "outputId": "15da3478-1ccf-4804-f8ca-460fad523b21"
      },
      "source": [
        "cleaned_sentences = list(map(cleaning, sentences))\n",
        "cleaned_sentences[-100:]"
      ],
      "execution_count": 24,
      "outputs": [
        {
          "output_type": "execute_result",
          "data": {
            "text/plain": [
              "['5026541333357',\n",
              " '502654133896toolong  santos  s',\n",
              " '5026541 crespo  c',\n",
              " '5026541 canavarro  m',\n",
              " '5026541 alderfer  m',\n",
              " '5026541  kazak  a',\n",
              " '5026541 2016  ',\n",
              " '5026541family rituals  financial burden  and mothers  adjustment in pediatric cancer ',\n",
              " '5026541journal of family psychology  30  10081013',\n",
              " '5026541journal of pediatric psychology  25  7991',\n",
              " '5026541doi101037fam0000246  streisand  r',\n",
              " '5026541 braniecki  s',\n",
              " '5026541 tercyak  k',\n",
              " '5026541  kazak  a',\n",
              " '5026541 2001  ',\n",
              " '5026541childhood illnessrelated parenting stress  the pediatric inventory for parents ',\n",
              " '5026541journal of pediatric psychology  26  314321',\n",
              " '502654127931toolong  styczynski  j',\n",
              " '5026541 czyzewski  k',\n",
              " '5026541 wysocki  m',\n",
              " '5026541 gryniewiczkwiatkowska  o',\n",
              " '5026541 kolodziejczykgietka  a',\n",
              " '5026541 salamonowicz  m',\n",
              " '5026541gil  l',\n",
              " '5026541 2016  ',\n",
              " '5026541increased risk of infections and infectionrelated mortality in children undergoing hematopoietic stem cell transplantation compared to conventional anticancer therapy  a multicenter nationwide study ',\n",
              " '5026541clinical microbiology and infection  22  179',\n",
              " '5026541el179el0',\n",
              " '5026541doi  25960toolong  terracini  b',\n",
              " '5026541 2011  ',\n",
              " '5026541epidemiology of childhood cancer ',\n",
              " '5026541environmental health  a global access science source  101',\n",
              " '502654130987toolong  tsimicalis  a',\n",
              " '5026541 stevens  b',\n",
              " '5026541 ungar  w',\n",
              " '5026541 mckeever  p',\n",
              " '5026541 greenberg  m',\n",
              " '5026541 agha  m',\n",
              " '5026541moineddin  r',\n",
              " '5026541 2012  ',\n",
              " '5026541psychooncology  21',\n",
              " '502654111131123',\n",
              " '5026541doi101002pon2009  vrijmoetwiersma  c',\n",
              " '5026541 van klink  j',\n",
              " '5026541 kolk  a',\n",
              " '5026541 koopman  h',\n",
              " '5026541 ball  l',\n",
              " '5026541  maarten egeler  r',\n",
              " '5026541 2008  ',\n",
              " '5026541assessment of parental psychological stress in pediatric cancer  a review ',\n",
              " '5026541journal of pediatric psychology  33',\n",
              " '5026541694706',\n",
              " '5026541251019toolong  wasilewskimasker  k',\n",
              " '5026541 seidel  k',\n",
              " '5026541 leisenring  w',\n",
              " '5026541 mertens  a',\n",
              " '5026541 shnorhavorian  m',\n",
              " '5026541 ritenour  c   meachaim  l',\n",
              " '5026541 2014  ',\n",
              " '5026541male infertility in longterm survivors of pediatric cancer  a report from the childhood cancer survivor study ',\n",
              " '5026541journal of cancer survivorship',\n",
              " '50265418  437447',\n",
              " '5026541291046toolong  wu  l',\n",
              " '5026541 chin  c',\n",
              " '5026541 haase  j',\n",
              " '5026541  chen ',\n",
              " '5026541 2009  ',\n",
              " '5026541coping experiences of adolescents with cancer  a qualitative study ',\n",
              " '5026541journal of advanced nursing  65  23582366',\n",
              " '5026541351077toolong  yalom  1 ',\n",
              " '5026541 1980  ',\n",
              " '5026541existential psychotherapy ',\n",
              " '5026541new york  ny  basic books ',\n",
              " '5026541 ye  y',\n",
              " '5026541 henriquesnormark  b',\n",
              " '5026541putsep  k',\n",
              " '5026541 2013  ',\n",
              " '5026541oral bacterial community dynamics in paediatric patients with malignancies in relation to chemotherapyrelated oral mucositis  a prospective study ',\n",
              " '5026541clinical microbiology and infection ',\n",
              " '5026541e559e567',\n",
              " '5026541271114toolong  young  b',\n",
              " '5026541 dixonwoods  m',\n",
              " '5026541  heney  d',\n",
              " '5026541 2002  ',\n",
              " '5026541identity and role in parenting a child with cancer ',\n",
              " '5026541pediatric rehabilitation  5  209214',\n",
              " '5026541311143toolong  zemp  m',\n",
              " '5026541 milek  a',\n",
              " '5026541 cummings  e',\n",
              " '5026541 cina  a',\n",
              " '5026541  bodenmann  g',\n",
              " '5026541 2016  ',\n",
              " '5026541how couple and parentingfocused programs affect child behavioral problems  a randomized controlled trial ',\n",
              " '5026541journal of child and family studies ',\n",
              " '502654125  798810',\n",
              " '5026541291176toolong  tabitha l young  tabitha l young  department of counseling  rehabilitation and interpreter training  troy university ',\n",
              " '5026541 correspondence concerning this article should be addressed to tabitha l young  department of counseling  rehabilitation and interpreter training ',\n",
              " '5026541college of education  troy university  troy ',\n",
              " '5026541al 36082 ',\n",
              " '5026541email  ']"
            ]
          },
          "metadata": {
            "tags": []
          },
          "execution_count": 24
        }
      ]
    },
    {
      "cell_type": "code",
      "metadata": {
        "id": "HFKvy6pD5hKc"
      },
      "source": [
        ""
      ],
      "execution_count": null,
      "outputs": []
    }
  ]
}