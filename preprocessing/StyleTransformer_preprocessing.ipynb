{
  "nbformat": 4,
  "nbformat_minor": 0,
  "metadata": {
    "colab": {
      "name": "StyleTransformer_preprocessing.ipynb",
      "provenance": [],
      "mount_file_id": "1yKsxsc6UPETTOU09PFHLgpEZZRlXulEC",
      "authorship_tag": "ABX9TyPt1msUPwtpSK3jnKLb+gEN",
      "include_colab_link": true
    },
    "kernelspec": {
      "name": "python3",
      "display_name": "Python 3"
    },
    "language_info": {
      "name": "python"
    }
  },
  "cells": [
    {
      "cell_type": "markdown",
      "metadata": {
        "id": "view-in-github",
        "colab_type": "text"
      },
      "source": [
        "<a href=\"https://colab.research.google.com/github/Annie-Yeeun-Jang/text_style_transfer_Tobigs/blob/main/preprocessing/StyleTransformer_preprocessing.ipynb\" target=\"_parent\"><img src=\"https://colab.research.google.com/assets/colab-badge.svg\" alt=\"Open In Colab\"/></a>"
      ]
    },
    {
      "cell_type": "code",
      "metadata": {
        "id": "tkOgYLy9Zv6Q"
      },
      "source": [
        "\n",
        "\n"
      ],
      "execution_count": 15,
      "outputs": []
    },
    {
      "cell_type": "code",
      "metadata": {
        "colab": {
          "base_uri": "https://localhost:8080/"
        },
        "id": "RHZdwaDdZc2E",
        "outputId": "fce17d44-dc67-43e3-c6c6-a57f09b0594f"
      },
      "source": [
        "# 파일 불러오기\n",
        "import pandas as pd\n",
        "with open('/content/drive/Shareddrives/text_conf/dataset/preprocessed/native/COCA_preprocessed_merged', 'r') as file:\n",
        "    native = file.read().split('\\n')\n",
        "na = pd.DataFrame(native)\n",
        "with open(\"/content/drive/Shareddrives/text_conf/dataset/preprocessed/non-native/nonnative_num_preprocessed.csv\", \"r\") as file:\n",
        "  nonNative = file.read().split(\"\\n\")\n",
        "non = pd.DataFrame(nonNative) \n",
        "\n",
        "# 전체 shuffle\n",
        "non = non.sample(frac=1).reset_index(drop=True)\n",
        "na = na.sample(frac=1).reset_index(drop=True)\n",
        "\n",
        "print(int(len(non)*0.7), int(len(non)*0.9), int(len(na)*0.7), int(len(na)*0.9))\n",
        "\n",
        "# train:val:test=7:2:1\n",
        "non_train = non[:int(len(non)*0.7)]\n",
        "non_val = non[int(len(non)*0.7):int(len(non)*0.9)]\n",
        "non_test = non[int(len(non)*0.9):]\n",
        "\n",
        "na_train = na[:int(len(na)*0.7)]\n",
        "na_val = na[int(len(na)*0.7):int(len(na)*0.9)]\n",
        "na_test = na[int(len(na)*0.9):]\n",
        "\n",
        "print(len(non_train), len(non_val), len(non_test))\n",
        "print(len(na_train), len(na_val), len(na_test))\n",
        "\n",
        "# 내보내기\n",
        "non_train.to_csv('/content/drive/Shareddrives/text_conf/style-transformer/data/dataset/nonnative_train', index=False, header=None, sep='\\t')\n",
        "non_val.to_csv('/content/drive/Shareddrives/text_conf/style-transformer/data/dataset/nonnative_val', index=False, header=None, sep='\\t')\n",
        "non_test.to_csv('/content/drive/Shareddrives/text_conf/style-transformer/data/dataset/nonnative_test', index=False, header=None, sep='\\t')\n",
        "\n",
        "na_train.to_csv('/content/drive/Shareddrives/text_conf/style-transformer/data/dataset/native_train', index=False, header=None, sep='\\t')\n",
        "na_val.to_csv('/content/drive/Shareddrives/text_conf/style-transformer/data/dataset/native_val', index=False, header=None, sep='\\t')\n",
        "na_test.to_csv('/content/drive/Shareddrives/text_conf/style-transformer/data/dataset/native_test', index=False, header=None, sep='\\t')"
      ],
      "execution_count": 17,
      "outputs": [
        {
          "output_type": "stream",
          "text": [
            "205907 264738 193546 248845\n",
            "205907 58831 29416\n",
            "193546 55299 27650\n"
          ],
          "name": "stdout"
        }
      ]
    }
  ]
}