{
  "nbformat": 4,
  "nbformat_minor": 0,
  "metadata": {
    "colab": {
      "name": "Tobigs_conference_preprocessing_&_EDA.ipynb",
      "provenance": [],
      "collapsed_sections": [
        "ON15UTAIkDpQ"
      ],
      "mount_file_id": "1rNCBnQFHSrPLQawvwrNlP6RdOr6rHkxk",
      "authorship_tag": "ABX9TyP7aothi3DaL0fC+BxF2be8"
    },
    "kernelspec": {
      "name": "python3",
      "display_name": "Python 3"
    },
    "language_info": {
      "name": "python"
    }
  },
  "cells": [
    {
      "cell_type": "markdown",
      "metadata": {
        "id": "Ms9n5USekG3n"
      },
      "source": [
        "# 1. Preprocessing"
      ]
    },
    {
      "cell_type": "code",
      "metadata": {
        "colab": {
          "base_uri": "https://localhost:8080/"
        },
        "id": "LNDoe8W3LFHy",
        "outputId": "8d55ca86-504f-4b65-eee4-acd3b967f31c"
      },
      "source": [
        "import seaborn as sns\n",
        "import re\n",
        "import nltk \n",
        "nltk.download('punkt')"
      ],
      "execution_count": null,
      "outputs": [
        {
          "output_type": "stream",
          "text": [
            "[nltk_data] Downloading package punkt to /root/nltk_data...\n",
            "[nltk_data]   Package punkt is already up-to-date!\n"
          ],
          "name": "stdout"
        },
        {
          "output_type": "execute_result",
          "data": {
            "text/plain": [
              "True"
            ]
          },
          "metadata": {
            "tags": []
          },
          "execution_count": 36
        }
      ]
    },
    {
      "cell_type": "code",
      "metadata": {
        "id": "RPaopFjMkAdd"
      },
      "source": [
        "folder_name = \"/content/drive/Shareddrives/text_conf/dataset/COCA/coca-samples-text/\"\n",
        "file_name_list = [\"text_fic.txt\", \"text_tvm.txt\", \"text_web.txt\", 'text_news.txt']\n",
        "file_list = {}\n",
        "for file in file_name_list:\n",
        "  with open(f\"{folder_name}/{file}\", encoding = 'UTF-8', newline = '\\n') as f:\n",
        "    data = []\n",
        "    for line in f.readlines():\n",
        "      if 'href' not in line:\n",
        "        data.append(line)\n",
        "    file_list[file[5:8]] = data[1:]"
      ],
      "execution_count": null,
      "outputs": []
    },
    {
      "cell_type": "code",
      "metadata": {
        "id": "7wu8xJz_kJ_f"
      },
      "source": [
        "# https://stackoverflow.com/questions/4576077/how-can-i-split-a-text-into-sentences\n",
        "# sentence splitter function\n",
        "alphabets= \"([A-Za-z])\"\n",
        "prefixes = \"(Mr|St|Mrs|Ms|Dr|Prof|Capt|Cpt|Lt|Mt|Jr)[.]\"\n",
        "suffixes = \"(Inc|Ltd|Jr|Sr|Co)\"\n",
        "starters = \"(Mr|Mrs|Ms|Dr|He\\s|She \\s|It \\s|They \\re|Their\\s|Our\\s|We\\s|But\\s|However\\s|That\\s|This\\s|Wherever)\"\n",
        "acronyms = \"([A-Z][.][A-Z][.](?:[A-Z][.])?)\"\n",
        "websites = \"[.](com|net|org|io|gov|me|edu)\"\n",
        "\n",
        "def split_into_sentences(text):\n",
        "    text = \" \" + text + \"  \"\n",
        "    text = text.replace(\"\\n\",\" \")\n",
        "    text = re.sub(prefixes,\"\\\\1<prd>\",text)\n",
        "    text = re.sub(websites,\"<prd>\\\\1\",text)\n",
        "    if \"Ph.D\" in text: text = text.replace(\"Ph.D.\",\"Ph<prd>D<prd>\")\n",
        "    text = re.sub(\"\\s\" + alphabets + \"[.] \",\" \\\\1<prd> \",text)\n",
        "    text = re.sub(acronyms+\" \"+starters,\"\\\\1<stop> \\\\2\",text)\n",
        "    text = re.sub(alphabets + \"[.]\" + alphabets + \"[.]\" + alphabets + \"[.]\",\"\\\\1<prd>\\\\2<prd>\\\\3<prd>\",text)\n",
        "    text = re.sub(alphabets + \"[.]\" + alphabets + \"[.]\",\"\\\\1<prd>\\\\2<prd>\",text)\n",
        "    text = re.sub(\" \"+suffixes+\"[.] \"+starters,\" \\\\1<stop> \\\\2\",text)\n",
        "    text = re.sub(\" \"+suffixes+\"[.]\",\" \\\\1<prd>\",text)\n",
        "    text = re.sub(\" \" + alphabets + \"[.]\",\" \\\\1<prd>\",text)\n",
        "    if \"”\" in text: text = text.replace(\".”\",\"”.\")\n",
        "    if \"\\\"\" in text: text = text.replace(\".\\\"\",\"\\\".\")\n",
        "    if \"!\" in text: text = text.replace(\"!\\\"\",\"\\\"!\")\n",
        "    if \"?\" in text: text = text.replace(\"?\\\"\",\"\\\"?\")\n",
        "    if \"...\" in text: text = text.replace(\"...\",\"<prd><prd><prd>\")\n",
        "    text = text.replace(\".\",\".<stop>\")\n",
        "    text = text.replace(\"?\",\"?<stop>\")\n",
        "    text = text.replace(\"!\",\"!<stop>\")\n",
        "    text = text.replace(\"<prd>\",\".\")\n",
        "    sentences = text.split(\"<stop>\")\n",
        "    sentences = sentences[:-1]\n",
        "    sentences = [s.strip() for s in sentences]\n",
        "    return sentences"
      ],
      "execution_count": null,
      "outputs": []
    },
    {
      "cell_type": "code",
      "metadata": {
        "id": "nqClhXuNixpQ"
      },
      "source": [
        "def html_preprocessing(corpus):\n",
        "  # html 기호들 전처리 \n",
        "  corpus = re.sub(\"&nbsp;\", \" \", corpus)\n",
        "  corpus = re.sub(\"&It;\", \"<\", corpus)\n",
        "  corpus = re.sub(\"%amp;\", \"and\", corpus)\n",
        "  corpus = re.sub(\"quot;\", '\"', corpus)\n",
        "  corpus = re.sub(\"&#035;\", \"#\", corpus)\n",
        "  corpus = re.sub(\"&#039;\", \"'\", corpus)\n",
        "\n",
        "  return corpus\n",
        "\n",
        "def preprocessing(corpus, sentence_splitter = split_into_sentences):\n",
        "  # 전처리 코드 전체 \n",
        "  # input : 문서 리스트\n",
        "  # output : 문서 리스트\n",
        "  corpus = html_preprocessing(corpus)\n",
        "  corpus = re.sub(r\"@@[0-9]{7}\", \"\", corpus)\n",
        "  corpus = re.sub(r\"\\<.\\>\", \"\", corpus) # <p>나 <h> 삭제 \n",
        "  corpus = re.sub(r\"[0-9]\", \"#NUM\", corpus) # 2020년 01월 -> ####년 ##월\n",
        "  corpus = re.sub(r\"\\( ?.* ?\\)\", \"\", corpus) # 괄호 안 문장 삭제라 조심해서 사용할 것. \n",
        "  corpus_split_by_sent = sentence_splitter(corpus) # 문장 단위로 나눔.  #I.A.E.E 나 C.I.A.를 문장으로 끊고 있음\n",
        "  # corpus_split_by_sent[0] = re.sub(\"@@#NUM#NUM#NUM#NUM#NUM#NUM#NUM  \",  \"\", corpus_split_by_sent[0]) # corpus_id를 지움\n",
        "  result_corpus = []\n",
        "  for sent in corpus_split_by_sent:\n",
        "    if (len(sent) > 5) and (sent.find(\"@ @ @ @ @ @ @ @ @ @\") == -1): # corpus 내부에서 길이가 짧은 문장이나 개행 문자 제거, @로 마스킹된 단어가 있는 문장 제거 \n",
        "      result_corpus.append(sent)\n",
        "  return result_corpus"
      ],
      "execution_count": null,
      "outputs": []
    },
    {
      "cell_type": "code",
      "metadata": {
        "id": "FVjw5UPgyMQn"
      },
      "source": [
        "def EDA(corpus, tokenizer = get_tokenizer('spacy')):\n",
        "  # EDA 코드 \n",
        "  file_preprocessed = [preprocessing(sentence) for sentence in corpus]\n",
        "  corpus_list = sum(file_preprocessed, [])\n",
        "  print(f\"전체 문장 수 : {len(corpus_list)}\")\n",
        "\n",
        "  corpus_counter = count_words(corpus_list, tokenizer = tokenizer)\n",
        "  corpus_vocab = Vocab(corpus_counter)\n",
        "  print(f\"전체 단어 수 : {len(corpus_vocab.vocab)}\")\n",
        "\n",
        "  tokenized_corpus = tokenizing(corpus_list, corpus_vocab, tokenizer)\n",
        "  sentence_len = [len(sent) for sent in tokenized_corpus]\n",
        "  summed = sumUptheWordsCount(tokenized_corpus)\n",
        "  print(f\"문장 평균 단어 수 : {summed/len(corpus_list):.3f}\")\n",
        "  print(f\"문장 최대 최소 단어 수 : {max(sentence_len), min(sentence_len)}\")\n",
        "  sns.distplot(sentence_len)"
      ],
      "execution_count": null,
      "outputs": []
    },
    {
      "cell_type": "code",
      "metadata": {
        "id": "kNzKnWuikZyg"
      },
      "source": [
        "# EDA 함수들\n",
        "\n",
        "# 출처 : https://pytorch.org/tutorials/beginner/torchtext_translation_tutorial.html\n",
        "from collections import Counter\n",
        "from torchtext.vocab import Vocab\n",
        "from torchtext.data.utils import get_tokenizer\n",
        "def count_words(corpus, counter = Counter(), tokenizer = get_tokenizer('spacy')):\n",
        "  for sent in corpus:\n",
        "    counter.update(tokenizer(sent))\n",
        "  return counter\n",
        "def tokenizing(corpus, vocab, tokenizer):\n",
        "  result = []\n",
        "  for sent in corpus:\n",
        "    sent_tokens = [vocab[token] for token in tokenizer(sent)]\n",
        "    result.append(sent_tokens)\n",
        "  return result\n",
        "def sumUptheWordsCount(corpus):\n",
        "  sum_ = 0\n",
        "  for sent in corpus:\n",
        "    sum_ += len(sent) \n",
        "  return sum_"
      ],
      "execution_count": null,
      "outputs": []
    },
    {
      "cell_type": "code",
      "metadata": {
        "id": "y38t_znL8u5g"
      },
      "source": [
        "def make_final_corpus(corpus_list : list, tokenizer = get_tokenizer('spacy')):\n",
        "  counter = Counter()\n",
        "  corpus = sum(corpus_list, [])\n",
        "  preprocessed = [preprocessing(sentence) for sentence in corpus]\n",
        "  preprocessed = sum(preprocessed, [])\n",
        "  counter = count_words(preprocessed, counter = counter, tokenizer = tokenizer)\n",
        "  vocab = Vocab(counter)\n",
        "\n",
        "  tokenized = tokenizing(preprocessed, vocab, tokenizer)\n",
        "  return tokenized, vocab"
      ],
      "execution_count": null,
      "outputs": []
    },
    {
      "cell_type": "code",
      "metadata": {
        "id": "tWO3kpDuy1Az"
      },
      "source": [
        "fic = file_list[\"fic\"]\n",
        "tvm = file_list['tvm']\n",
        "web = file_list['web']\n",
        "new = file_list['new']\n",
        "corpus = [web, new]"
      ],
      "execution_count": null,
      "outputs": []
    },
    {
      "cell_type": "code",
      "metadata": {
        "colab": {
          "base_uri": "https://localhost:8080/",
          "height": 390
        },
        "id": "hQwa9YK8zYxg",
        "outputId": "cf3a552c-df75-4cee-e13f-cb62e6ca3239"
      },
      "source": [
        "EDA(web, tokenizer = get_tokenizer('spacy'))"
      ],
      "execution_count": null,
      "outputs": [
        {
          "output_type": "stream",
          "text": [
            "전체 문장 수 : 20411\n",
            "전체 단어 수 : 28554\n",
            "문장 평균 단어 수 : 20.816\n",
            "문장 최대 최소 단어 수 : (150, 2)\n"
          ],
          "name": "stdout"
        },
        {
          "output_type": "stream",
          "text": [
            "/usr/local/lib/python3.7/dist-packages/seaborn/distributions.py:2557: FutureWarning: `distplot` is a deprecated function and will be removed in a future version. Please adapt your code to use either `displot` (a figure-level function with similar flexibility) or `histplot` (an axes-level function for histograms).\n",
            "  warnings.warn(msg, FutureWarning)\n"
          ],
          "name": "stderr"
        },
        {
          "output_type": "display_data",
          "data": {
            "image/png": "[encoded data removed]",
            "text/plain": [
              "<Figure size 432x288 with 1 Axes>"
            ]
          },
          "metadata": {
            "tags": [],
            "needs_background": "light"
          }
        }
      ]
    },
    {
      "cell_type": "code",
      "metadata": {
        "colab": {
          "base_uri": "https://localhost:8080/",
          "height": 392
        },
        "id": "Ac4XGXknza-a",
        "outputId": "d55efbeb-bf60-42cb-af36-c189fc0d9467"
      },
      "source": [
        "EDA(new, tokenizer = get_tokenizer('spacy'))"
      ],
      "execution_count": null,
      "outputs": [
        {
          "output_type": "stream",
          "text": [
            "전체 문장 수 : 38510\n",
            "전체 단어 수 : 51475\n",
            "문장 평균 단어 수 : 20.348\n",
            "문장 최대 최소 단어 수 : (112, 2)\n"
          ],
          "name": "stdout"
        },
        {
          "output_type": "stream",
          "text": [
            "/usr/local/lib/python3.7/dist-packages/seaborn/distributions.py:2557: FutureWarning: `distplot` is a deprecated function and will be removed in a future version. Please adapt your code to use either `displot` (a figure-level function with similar flexibility) or `histplot` (an axes-level function for histograms).\n",
            "  warnings.warn(msg, FutureWarning)\n"
          ],
          "name": "stderr"
        },
        {
          "output_type": "display_data",
          "data": {
            "image/png": "[encoded data removed]",
            "text/plain": [
              "<Figure size 432x288 with 1 Axes>"
            ]
          },
          "metadata": {
            "tags": [],
            "needs_background": "light"
          }
        }
      ]
    },
    {
      "cell_type": "code",
      "metadata": {
        "id": "Y2Yjlqeh_rRq"
      },
      "source": [
        "tokenized_corpus, vocab = make_final_corpus(corpus)"
      ],
      "execution_count": null,
      "outputs": []
    },
    {
      "cell_type": "code",
      "metadata": {
        "id": "pYZKKH0XMr-3"
      },
      "source": [
        "def comparing_tokenizer(corpus, tokenizer, basic = False, tweet = False):\n",
        "  corpus = sum(corpus, [])\n",
        "  file_preprocessed = [preprocessing(sentence) for sentence in corpus]\n",
        "  corpus_list = sum(file_preprocessed, [])\n",
        "  if basic:\n",
        "    if tweet:\n",
        "      result = [tokenizer.tokenize(sent) for sent in corpus_list]\n",
        "    else:\n",
        "      result = [tokenizer().tokenize(sent) for sent in corpus_list]\n",
        "  else:\n",
        "    result = [tokenizer(sent) for sent in corpus_list]\n",
        "\n",
        "  return result"
      ],
      "execution_count": null,
      "outputs": []
    },
    {
      "cell_type": "code",
      "metadata": {
        "id": "Ajr3XO6mDY-x"
      },
      "source": [
        "from nltk.tokenize import TreebankWordTokenizer, TweetTokenizer\n",
        "spacy = comparing_tokenizer(corpus, tokenizer = get_tokenizer('spacy'))\n",
        "treebank = comparing_tokenizer(corpus, tokenizer = TreebankWordTokenizer, basic = True)"
      ],
      "execution_count": null,
      "outputs": []
    },
    {
      "cell_type": "code",
      "metadata": {
        "id": "jqI8hUBSUblo"
      },
      "source": [
        "tweet1 = comparing_tokenizer(corpus, tokenizer = TweetTokenizer(), basic = True, tweet = True)\n",
        "tweet2 = comparing_tokenizer(corpus, tokenizer = TweetTokenizer(strip_handles = True, reduce_len = True), basic = True, tweet = True)"
      ],
      "execution_count": null,
      "outputs": []
    },
    {
      "cell_type": "code",
      "metadata": {
        "id": "OMdtn7pVOBxL"
      },
      "source": [
        "from nltk import word_tokenize\n",
        "word_token = comparing_tokenizer(corpus, tokenizer = word_tokenize)"
      ],
      "execution_count": null,
      "outputs": []
    },
    {
      "cell_type": "code",
      "metadata": {
        "id": "VV4q-P8XOnnN"
      },
      "source": [
        "from keras.preprocessing.text import text_to_word_sequence\n",
        "keras_ = comparing_tokenizer(corpus, tokenizer = text_to_word_sequence)"
      ],
      "execution_count": null,
      "outputs": []
    },
    {
      "cell_type": "code",
      "metadata": {
        "id": "7DMdjvMIO77-"
      },
      "source": [
        "import numpy as np\n",
        "def comparing_text(tokenized):\n",
        "  rand_ = np.random.randint(0, len(tokenized.keys()))\n",
        "  print(rand_)\n",
        "  for key, value in tokenized.items():\n",
        "    print(key)\n",
        "    print(value[rand_])\n",
        "    print(\"-\"*30)"
      ],
      "execution_count": null,
      "outputs": []
    },
    {
      "cell_type": "code",
      "metadata": {
        "colab": {
          "base_uri": "https://localhost:8080/"
        },
        "id": "wO0oJra1PcDH",
        "outputId": "3a85cc6b-c699-4082-befa-fe15ecdcf485"
      },
      "source": [
        "comparing_text({'spacy' : spacy, 'word_token' : word_token, \"treebank\" : treebank, \"tweet1\" : tweet1, 'tweet2' : tweet2, 'keras' : keras_})"
      ],
      "execution_count": null,
      "outputs": [
        {
          "output_type": "stream",
          "text": [
            "0\n",
            "spacy\n",
            "['Iran', \"'s\", 'Nuclear', 'Program', ' ', 'A', 'former', 'deputy', 'defense', 'minister', ',', 'Ali', '-', 'Reza', 'Asgari', ',', 'disappeared', 'while', 'visiting', 'Turkey', 'in', '#', 'NUM#NUM#NUM#NUM', 'and', 'is', 'widely', 'believed', 'to', 'have', 'defected', ',', 'possibly', 'to', 'the', 'United', 'States', '.']\n",
            "------------------------------\n",
            "word_token\n",
            "['Iran', \"'s\", 'Nuclear', 'Program', 'A', 'former', 'deputy', 'defense', 'minister', ',', 'Ali-Reza', 'Asgari', ',', 'disappeared', 'while', 'visiting', 'Turkey', 'in', '#', 'NUM', '#', 'NUM', '#', 'NUM', '#', 'NUM', 'and', 'is', 'widely', 'believed', 'to', 'have', 'defected', ',', 'possibly', 'to', 'the', 'United', 'States', '.']\n",
            "------------------------------\n",
            "treebank\n",
            "['Iran', \"'s\", 'Nuclear', 'Program', 'A', 'former', 'deputy', 'defense', 'minister', ',', 'Ali-Reza', 'Asgari', ',', 'disappeared', 'while', 'visiting', 'Turkey', 'in', '#', 'NUM', '#', 'NUM', '#', 'NUM', '#', 'NUM', 'and', 'is', 'widely', 'believed', 'to', 'have', 'defected', ',', 'possibly', 'to', 'the', 'United', 'States', '.']\n",
            "------------------------------\n",
            "tweet1\n",
            "['Iran', \"'\", 's', 'Nuclear', 'Program', 'A', 'former', 'deputy', 'defense', 'minister', ',', 'Ali-Reza', 'Asgari', ',', 'disappeared', 'while', 'visiting', 'Turkey', 'in', '#NUM', '#NUM', '#NUM', '#NUM', 'and', 'is', 'widely', 'believed', 'to', 'have', 'defected', ',', 'possibly', 'to', 'the', 'United', 'States', '.']\n",
            "------------------------------\n",
            "tweet2\n",
            "['Iran', \"'\", 's', 'Nuclear', 'Program', 'A', 'former', 'deputy', 'defense', 'minister', ',', 'Ali-Reza', 'Asgari', ',', 'disappeared', 'while', 'visiting', 'Turkey', 'in', '#NUM', '#NUM', '#NUM', '#NUM', 'and', 'is', 'widely', 'believed', 'to', 'have', 'defected', ',', 'possibly', 'to', 'the', 'United', 'States', '.']\n",
            "------------------------------\n",
            "keras\n",
            "['iran', \"'s\", 'nuclear', 'program', 'a', 'former', 'deputy', 'defense', 'minister', 'ali', 'reza', 'asgari', 'disappeared', 'while', 'visiting', 'turkey', 'in', 'num', 'num', 'num', 'num', 'and', 'is', 'widely', 'believed', 'to', 'have', 'defected', 'possibly', 'to', 'the', 'united', 'states']\n",
            "------------------------------\n"
          ],
          "name": "stdout"
        }
      ]
    },
    {
      "cell_type": "code",
      "metadata": {
        "colab": {
          "base_uri": "https://localhost:8080/",
          "height": 438
        },
        "id": "jR1h-ZjkHtjO",
        "outputId": "a2d87cbc-7324-48f9-949a-86df0f24a667"
      },
      "source": [
        "y = cleaned"
      ],
      "execution_count": null,
      "outputs": [
        {
          "output_type": "execute_result",
          "data": {
            "application/vnd.google.colaboratory.intrinsic+json": {
              "type": "string"
            },
            "text/plain": [
              "' <a href= \" http : **29;4784;TOOLONG ... title= \" realized that they were wearing the same outfit by Anz-i , Flickr \" ><img src= \" http : **30;4815;TOOLONG ... width= \" 500 \" height= \" 333 \" alt= \" They realized that they were wearing the same outfit \" ></a>  <a href= \" http : **29;4847;TOOLONG ... title= \" realized that they were wearing the same outfit by Anz-i , Flickr \" ><img src= \" http : **30;4878;TOOLONG ... width= \" 100 \" height= \" 67 \" alt= \" They realized that they were wearing the same outfit \" ></a>  url=http : **30;4910;TOOLONG ... url=http : **30;4942;TOOLONG ... realized that they were wearing the same outfit/url by url=http : **30;4974;TOOLONG ... on Flickr  <a href= \" http : **29;5006;TOOLONG ... title= \" realized that they were wearing the same outfit by Anz-i , Flickr \" ><img src= \" http : **30;5037;TOOLONG ... width= \" 75 \" height= \" 75 \" alt= \" They realized that they were wearing the same outfit \" ></a>  url=http : **30;5069;TOOLONG ... url=http : **30;5101;TOOLONG ... realized that they were wearing the same outfit/url by url=http : **30;5133;TOOLONG ... @ @ @ @ @ @ @ @ @ @ title= \" realized that they were wearing the same outfit by Anz-i , Flickr \" ><img src= \" http : **30;5196;TOOLONG ... width= \" 150 \" height= \" 150 \" alt= \" They realized that they were wearing the same outfit \" ></a>  url=http : **30;5228;TOOLONG ... url=http : **30;5260;TOOLONG ... realized that they were wearing the same outfit/url by url=http : **30;5292;TOOLONG ... on Flickr  <a href= \" http : **29;5324;TOOLONG ... title= \" realized that they were wearing the same outfit by Anz-i , Flickr \" ><img src= \" http : **30;5355;TOOLONG ... width= \" 240 \" height= \" 160 \" alt= \" They realized that they were wearing the same outfit \" ></a>  url=http : **30;5387;TOOLONG ... url=http : **30;5419;TOOLONG ... realized that they were wearing the same outfit/url by url=http : **30;5451;TOOLONG ... on Flickr  <a href= \" http : **29;5483;TOOLONG ... title= \" realized that they were wearing the same outfit by Anz-i , Flickr \" ><img src= \" http : **30;5514;TOOLONG ... width= \" 320 \" height= \" 213 \" alt= \" They realized that they were wearing the same @ @ @ @ @ @ @ @ @ @ **30;5578;TOOLONG ... realized that they were wearing the same outfit/url by url=http : **30;5610;TOOLONG ... on Flickr  <a href= \" http : **29;5642;TOOLONG ... title= \" realized that they were wearing the same outfit by Anz-i , Flickr \" ><img src= \" http : **30;5673;TOOLONG ... width= \" 500 \" height= \" 333 \" alt= \" They realized that they were wearing the same outfit \" ></a>  url=http : **30;5705;TOOLONG ... url=http : **30;5737;TOOLONG ... realized that they were wearing the same outfit/url by url=http : **30;5769;TOOLONG ... on Flickr  <a href= \" http : **29;5801;TOOLONG ... title= \" realized that they were wearing the same outfit by Anz-i , Flickr \" ><img src= \" http : **30;5832;TOOLONG ... width= \" 640 \" height= \" 427 \" alt= \" They realized that they were wearing the same outfit \" ></a>  url=http : **30;5864;TOOLONG ... url=http : **30;5896;TOOLONG ... realized that they were wearing the same outfit/url by url=http : **30;5928;TOOLONG ... on Flickr  <a href= \" http : **29;5960;TOOLONG ... title= \" realized that they were wearing the same outfit by Anz-i , Flickr \" @ @ @ @ @ @ @ @ @ @ \" height= \" 534 \" alt= \" They realized that they were wearing the same outfit \" ></a>  url=http : **30;6023;TOOLONG ... url=http : **30;6055;TOOLONG ... realized that they were wearing the same outfit/url by url=http : **30;6087;TOOLONG ... on Flickr  <a href= \" http : **29;6119;TOOLONG ... title= \" realized that they were wearing the same outfit by Anz-i , Flickr \" ><img src= \" http : **30;6150;TOOLONG ... width= \" 1024 \" height= \" 683 \" alt= \" They realized that they were wearing the same outfit \" ></a>  url=http : **30;6182;TOOLONG ... url=http : **30;6214;TOOLONG ... realized that they were wearing the same outfit/url by url=http : **30;6246;TOOLONG ... on Flickr  <a href= \" http : **29;6278;TOOLONG ... title= \" realized that they were wearing the same outfit by Anz-i , Flickr \" ><img src= \" http : **30;6309;TOOLONG ... width= \" 1600 \" height= \" 1067 \" alt= \" They realized that they were wearing the same outfit \" ></a>  url=http : **30;6341;TOOLONG ... url=http : **30;6373;TOOLONG ... realized that they were wearing the same outfit/url by url=http : **30;6405;TOOLONG ... @ @ @ @ @ @ @ @ @ @ title= \" realized that they were wearing the same outfit by Anz-i , on Flickr \" ><img src= \" http : **30;6468;TOOLONG ... width= \" 3456 \" height= \" 2304 \" alt= \" \\r\\n'"
            ]
          },
          "metadata": {
            "tags": []
          },
          "execution_count": 22
        }
      ]
    },
    {
      "cell_type": "code",
      "metadata": {
        "colab": {
          "base_uri": "https://localhost:8080/",
          "height": 34
        },
        "id": "R5j9KonVHyHD",
        "outputId": "fcb0c64e-0e46-42e6-8118-f3b4d430ba5c"
      },
      "source": [
        "x[11]"
      ],
      "execution_count": null,
      "outputs": [
        {
          "output_type": "execute_result",
          "data": {
            "application/vnd.google.colaboratory.intrinsic+json": {
              "type": "string"
            },
            "text/plain": [
              "'p'"
            ]
          },
          "metadata": {
            "tags": []
          },
          "execution_count": 19
        }
      ]
    },
    {
      "cell_type": "code",
      "metadata": {
        "colab": {
          "base_uri": "https://localhost:8080/"
        },
        "id": "PEFgsCx_IC4H",
        "outputId": "d0b1199b-23d0-420f-cb26-e5b76c8ec05f"
      },
      "source": [
        "x.split(\"<p>\")"
      ],
      "execution_count": null,
      "outputs": [
        {
          "output_type": "execute_result",
          "data": {
            "text/plain": [
              "['@@5081141 ',\n",
              " ' &lt;a href= \" http : **29;4784;TOOLONG ... title= \" realized that they were wearing the same outfit by Anz-i , Flickr \" &gt;&lt;img src= \" http : **30;4815;TOOLONG ... width= \" 500 \" height= \" 333 \" alt= \" They realized that they were wearing the same outfit \" &gt;&lt;/a&gt; ',\n",
              " ' &lt;a href= \" http : **29;4847;TOOLONG ... title= \" realized that they were wearing the same outfit by Anz-i , Flickr \" &gt;&lt;img src= \" http : **30;4878;TOOLONG ... width= \" 100 \" height= \" 67 \" alt= \" They realized that they were wearing the same outfit \" &gt;&lt;/a&gt; ',\n",
              " ' url=http : **30;4910;TOOLONG ... url=http : **30;4942;TOOLONG ... realized that they were wearing the same outfit/url by url=http : **30;4974;TOOLONG ... on Flickr ',\n",
              " ' &lt;a href= \" http : **29;5006;TOOLONG ... title= \" realized that they were wearing the same outfit by Anz-i , Flickr \" &gt;&lt;img src= \" http : **30;5037;TOOLONG ... width= \" 75 \" height= \" 75 \" alt= \" They realized that they were wearing the same outfit \" &gt;&lt;/a&gt; ',\n",
              " ' url=http : **30;5069;TOOLONG ... url=http : **30;5101;TOOLONG ... realized that they were wearing the same outfit/url by url=http : **30;5133;TOOLONG ... @ @ @ @ @ @ @ @ @ @ title= \" realized that they were wearing the same outfit by Anz-i , Flickr \" &gt;&lt;img src= \" http : **30;5196;TOOLONG ... width= \" 150 \" height= \" 150 \" alt= \" They realized that they were wearing the same outfit \" &gt;&lt;/a&gt; ',\n",
              " ' url=http : **30;5228;TOOLONG ... url=http : **30;5260;TOOLONG ... realized that they were wearing the same outfit/url by url=http : **30;5292;TOOLONG ... on Flickr ',\n",
              " ' &lt;a href= \" http : **29;5324;TOOLONG ... title= \" realized that they were wearing the same outfit by Anz-i , Flickr \" &gt;&lt;img src= \" http : **30;5355;TOOLONG ... width= \" 240 \" height= \" 160 \" alt= \" They realized that they were wearing the same outfit \" &gt;&lt;/a&gt; ',\n",
              " ' url=http : **30;5387;TOOLONG ... url=http : **30;5419;TOOLONG ... realized that they were wearing the same outfit/url by url=http : **30;5451;TOOLONG ... on Flickr ',\n",
              " ' &lt;a href= \" http : **29;5483;TOOLONG ... title= \" realized that they were wearing the same outfit by Anz-i , Flickr \" &gt;&lt;img src= \" http : **30;5514;TOOLONG ... width= \" 320 \" height= \" 213 \" alt= \" They realized that they were wearing the same @ @ @ @ @ @ @ @ @ @ **30;5578;TOOLONG ... realized that they were wearing the same outfit/url by url=http : **30;5610;TOOLONG ... on Flickr ',\n",
              " ' &lt;a href= \" http : **29;5642;TOOLONG ... title= \" realized that they were wearing the same outfit by Anz-i , Flickr \" &gt;&lt;img src= \" http : **30;5673;TOOLONG ... width= \" 500 \" height= \" 333 \" alt= \" They realized that they were wearing the same outfit \" &gt;&lt;/a&gt; ',\n",
              " ' url=http : **30;5705;TOOLONG ... url=http : **30;5737;TOOLONG ... realized that they were wearing the same outfit/url by url=http : **30;5769;TOOLONG ... on Flickr ',\n",
              " ' &lt;a href= \" http : **29;5801;TOOLONG ... title= \" realized that they were wearing the same outfit by Anz-i , Flickr \" &gt;&lt;img src= \" http : **30;5832;TOOLONG ... width= \" 640 \" height= \" 427 \" alt= \" They realized that they were wearing the same outfit \" &gt;&lt;/a&gt; ',\n",
              " ' url=http : **30;5864;TOOLONG ... url=http : **30;5896;TOOLONG ... realized that they were wearing the same outfit/url by url=http : **30;5928;TOOLONG ... on Flickr ',\n",
              " ' &lt;a href= \" http : **29;5960;TOOLONG ... title= \" realized that they were wearing the same outfit by Anz-i , Flickr \" @ @ @ @ @ @ @ @ @ @ \" height= \" 534 \" alt= \" They realized that they were wearing the same outfit \" &gt;&lt;/a&gt; ',\n",
              " ' url=http : **30;6023;TOOLONG ... url=http : **30;6055;TOOLONG ... realized that they were wearing the same outfit/url by url=http : **30;6087;TOOLONG ... on Flickr ',\n",
              " ' &lt;a href= \" http : **29;6119;TOOLONG ... title= \" realized that they were wearing the same outfit by Anz-i , Flickr \" &gt;&lt;img src= \" http : **30;6150;TOOLONG ... width= \" 1024 \" height= \" 683 \" alt= \" They realized that they were wearing the same outfit \" &gt;&lt;/a&gt; ',\n",
              " ' url=http : **30;6182;TOOLONG ... url=http : **30;6214;TOOLONG ... realized that they were wearing the same outfit/url by url=http : **30;6246;TOOLONG ... on Flickr ',\n",
              " ' &lt;a href= \" http : **29;6278;TOOLONG ... title= \" realized that they were wearing the same outfit by Anz-i , Flickr \" &gt;&lt;img src= \" http : **30;6309;TOOLONG ... width= \" 1600 \" height= \" 1067 \" alt= \" They realized that they were wearing the same outfit \" &gt;&lt;/a&gt; ',\n",
              " ' url=http : **30;6341;TOOLONG ... url=http : **30;6373;TOOLONG ... realized that they were wearing the same outfit/url by url=http : **30;6405;TOOLONG ... @ @ @ @ @ @ @ @ @ @ title= \" realized that they were wearing the same outfit by Anz-i , on Flickr \" &gt;&lt;img src= \" http : **30;6468;TOOLONG ... width= \" 3456 \" height= \" 2304 \" alt= \" \\r\\n']"
            ]
          },
          "metadata": {
            "tags": []
          },
          "execution_count": 24
        }
      ]
    },
    {
      "cell_type": "code",
      "metadata": {
        "colab": {
          "base_uri": "https://localhost:8080/",
          "height": 123
        },
        "id": "2cA8E2gHIZF8",
        "outputId": "7077b446-e5d1-41b2-c78d-11664511cd30"
      },
      "source": [
        "x"
      ],
      "execution_count": null,
      "outputs": [
        {
          "output_type": "execute_result",
          "data": {
            "application/vnd.google.colaboratory.intrinsic+json": {
              "type": "string"
            },
            "text/plain": [
              "'@@5081141 <p> &lt;a href= \" http : **29;4784;TOOLONG ... title= \" realized that they were wearing the same outfit by Anz-i , Flickr \" &gt;&lt;img src= \" http : **30;4815;TOOLONG ... width= \" 500 \" height= \" 333 \" alt= \" They realized that they were wearing the same outfit \" &gt;&lt;/a&gt; <p> &lt;a href= \" http : **29;4847;TOOLONG ... title= \" realized that they were wearing the same outfit by Anz-i , Flickr \" &gt;&lt;img src= \" http : **30;4878;TOOLONG ... width= \" 100 \" height= \" 67 \" alt= \" They realized that they were wearing the same outfit \" &gt;&lt;/a&gt; <p> url=http : **30;4910;TOOLONG ... url=http : **30;4942;TOOLONG ... realized that they were wearing the same outfit/url by url=http : **30;4974;TOOLONG ... on Flickr <p> &lt;a href= \" http : **29;5006;TOOLONG ... title= \" realized that they were wearing the same outfit by Anz-i , Flickr \" &gt;&lt;img src= \" http : **30;5037;TOOLONG ... width= \" 75 \" height= \" 75 \" alt= \" They realized that they were wearing the same outfit \" &gt;&lt;/a&gt; <p> url=http : **30;5069;TOOLONG ... url=http : **30;5101;TOOLONG ... realized that they were wearing the same outfit/url by url=http : **30;5133;TOOLONG ... @ @ @ @ @ @ @ @ @ @ title= \" realized that they were wearing the same outfit by Anz-i , Flickr \" &gt;&lt;img src= \" http : **30;5196;TOOLONG ... width= \" 150 \" height= \" 150 \" alt= \" They realized that they were wearing the same outfit \" &gt;&lt;/a&gt; <p> url=http : **30;5228;TOOLONG ... url=http : **30;5260;TOOLONG ... realized that they were wearing the same outfit/url by url=http : **30;5292;TOOLONG ... on Flickr <p> &lt;a href= \" http : **29;5324;TOOLONG ... title= \" realized that they were wearing the same outfit by Anz-i , Flickr \" &gt;&lt;img src= \" http : **30;5355;TOOLONG ... width= \" 240 \" height= \" 160 \" alt= \" They realized that they were wearing the same outfit \" &gt;&lt;/a&gt; <p> url=http : **30;5387;TOOLONG ... url=http : **30;5419;TOOLONG ... realized that they were wearing the same outfit/url by url=http : **30;5451;TOOLONG ... on Flickr <p> &lt;a href= \" http : **29;5483;TOOLONG ... title= \" realized that they were wearing the same outfit by Anz-i , Flickr \" &gt;&lt;img src= \" http : **30;5514;TOOLONG ... width= \" 320 \" height= \" 213 \" alt= \" They realized that they were wearing the same @ @ @ @ @ @ @ @ @ @ **30;5578;TOOLONG ... realized that they were wearing the same outfit/url by url=http : **30;5610;TOOLONG ... on Flickr <p> &lt;a href= \" http : **29;5642;TOOLONG ... title= \" realized that they were wearing the same outfit by Anz-i , Flickr \" &gt;&lt;img src= \" http : **30;5673;TOOLONG ... width= \" 500 \" height= \" 333 \" alt= \" They realized that they were wearing the same outfit \" &gt;&lt;/a&gt; <p> url=http : **30;5705;TOOLONG ... url=http : **30;5737;TOOLONG ... realized that they were wearing the same outfit/url by url=http : **30;5769;TOOLONG ... on Flickr <p> &lt;a href= \" http : **29;5801;TOOLONG ... title= \" realized that they were wearing the same outfit by Anz-i , Flickr \" &gt;&lt;img src= \" http : **30;5832;TOOLONG ... width= \" 640 \" height= \" 427 \" alt= \" They realized that they were wearing the same outfit \" &gt;&lt;/a&gt; <p> url=http : **30;5864;TOOLONG ... url=http : **30;5896;TOOLONG ... realized that they were wearing the same outfit/url by url=http : **30;5928;TOOLONG ... on Flickr <p> &lt;a href= \" http : **29;5960;TOOLONG ... title= \" realized that they were wearing the same outfit by Anz-i , Flickr \" @ @ @ @ @ @ @ @ @ @ \" height= \" 534 \" alt= \" They realized that they were wearing the same outfit \" &gt;&lt;/a&gt; <p> url=http : **30;6023;TOOLONG ... url=http : **30;6055;TOOLONG ... realized that they were wearing the same outfit/url by url=http : **30;6087;TOOLONG ... on Flickr <p> &lt;a href= \" http : **29;6119;TOOLONG ... title= \" realized that they were wearing the same outfit by Anz-i , Flickr \" &gt;&lt;img src= \" http : **30;6150;TOOLONG ... width= \" 1024 \" height= \" 683 \" alt= \" They realized that they were wearing the same outfit \" &gt;&lt;/a&gt; <p> url=http : **30;6182;TOOLONG ... url=http : **30;6214;TOOLONG ... realized that they were wearing the same outfit/url by url=http : **30;6246;TOOLONG ... on Flickr <p> &lt;a href= \" http : **29;6278;TOOLONG ... title= \" realized that they were wearing the same outfit by Anz-i , Flickr \" &gt;&lt;img src= \" http : **30;6309;TOOLONG ... width= \" 1600 \" height= \" 1067 \" alt= \" They realized that they were wearing the same outfit \" &gt;&lt;/a&gt; <p> url=http : **30;6341;TOOLONG ... url=http : **30;6373;TOOLONG ... realized that they were wearing the same outfit/url by url=http : **30;6405;TOOLONG ... @ @ @ @ @ @ @ @ @ @ title= \" realized that they were wearing the same outfit by Anz-i , on Flickr \" &gt;&lt;img src= \" http : **30;6468;TOOLONG ... width= \" 3456 \" height= \" 2304 \" alt= \" \\r\\n'"
            ]
          },
          "metadata": {
            "tags": []
          },
          "execution_count": 25
        }
      ]
    },
    {
      "cell_type": "markdown",
      "metadata": {
        "id": "ON15UTAIkDpQ"
      },
      "source": [
        "# 0. 휴지통"
      ]
    },
    {
      "cell_type": "code",
      "metadata": {
        "colab": {
          "base_uri": "https://localhost:8080/"
        },
        "id": "ZI_njzaESIYM",
        "outputId": "fcbfa776-037f-459a-ebde-cc595dfe5b0a"
      },
      "source": [
        "### OLD VERSION\n",
        "############################################################\n",
        "############################################################\n",
        "import nltk \n",
        "import re\n",
        "nltk.download('punkt')\n",
        "\n",
        "def preprocessing(corpus):\n",
        "  # 전처리 코드 전체 \n",
        "  # input : 문서 리스트\n",
        "  # output : 문서 리스트\n",
        "\n",
        "  if not len(corpus) < 5: # 글자가 5개 이하인 경우 아예 지움. \\r\\n과 같은 개행 문자를 삭제해줌\n",
        "    corpus = re.sub(r\"\\<.\\>\", \"\", corpus) # <p>나 <h> 삭제 \n",
        "    corpus = re.sub(r\"[0-9]\", \"#NUM\", corpus) # 2020년 01월 -> ####년 ##월\n",
        "    corpus = re.sub(r\"\\( .* \\)\", \"\", corpus) # 괄호 안 문장 삭제라 조심해서 사용할 것. \n",
        "    # corpus = re.sub(r\"[A-Z][.A-Z]*\", \"\", corpus)\n",
        "    corpus_split_by_sent = nltk.tokenize.sent_tokenize(corpus) # 문장 단위로 나눔.  #I.A.E.E 나 C.I.A.를 문장으로 끊고 있음\n",
        "    corpus_id = corpus_split_by_sent[0].split(\" \")[0] # corpus_id를 따로 저장\n",
        "    corpus_split_by_sent[0] = re.sub(\"(@{2}[0-9]{7} )\",  \"\", corpus_split_by_sent[0]) # corpus_id를 지움\n",
        "    result_corpus = []\n",
        "    for sent in corpus_split_by_sent:\n",
        "      if (len(sent) > 5) and (sent.find(\"@ @ @ @ @ @ @ @ @ @\") == -1): # corpus 내부에서 길이가 짧은 문장이나 개행 문자 제거, @로 마스킹된 단어가 있는 문장 제거 \n",
        "        # result_corpus.append(\"@@\" + corpus_id + \"@ \" + sent) # 문장 맨 앞에 $$corpus_id@ 추가 \n",
        "        result_corpus.append(sent)\n",
        "    return result_corpus"
      ],
      "execution_count": null,
      "outputs": [
        {
          "output_type": "stream",
          "text": [
            "[nltk_data] Downloading package punkt to /root/nltk_data...\n",
            "[nltk_data]   Package punkt is already up-to-date!\n"
          ],
          "name": "stdout"
        }
      ]
    },
    {
      "cell_type": "code",
      "metadata": {
        "id": "Uoz0n3HKlTFt"
      },
      "source": [
        "import nltk \n",
        "import re\n",
        "\n",
        "nltk.download('punkt')\n",
        "\n",
        "def preprocessing(corpus, sentence_splitter = nltk.tokenize.sent_tokenize):\n",
        "  # 전처리 코드 전체 \n",
        "  # input : 문서 리스트\n",
        "  # output : 문서 리스트\n",
        "  corpus = re.sub(r\"\\<.\\>\", \"\", corpus) # <p>나 <h> 삭제 \n",
        "  corpus = re.sub(r\"[0-9]\", \"#NUM\", corpus) # 2020년 01월 -> ####년 ##월\n",
        "  corpus = re.sub(r\"\\( .* \\)\", \"\", corpus) # 괄호 안 문장 삭제라 조심해서 사용할 것. \n",
        "  # corpus = re.sub(r\"[A-Z][.A-Z]*\", \"\", corpus)\n",
        "  corpus_split_by_sent = sentence_splitter(corpus) # 문장 단위로 나눔.  #I.A.E.E 나 C.I.A.를 문장으로 끊고 있음\n",
        "  corpus_split_by_sent[0] = re.sub(r\"@@[0-9]{7} \", \"\", corpus_split_by_sent[0]) # corpus_id 삭제\n",
        "  result_corpus = []\n",
        "  for sent in corpus_split_by_sent:\n",
        "    if (len(sent) > 5) and (sent.find(\"@ @ @ @ @ @ @ @ @ @\") == -1): # corpus 내부에서 길이가 짧은 문장이나 개행 문자 제거, @로 마스킹된 단어가 있는 문장 제거 \n",
        "      result_corpus.append(sent)\n",
        "  return result_corpus"
      ],
      "execution_count": null,
      "outputs": []
    },
    {
      "cell_type": "code",
      "metadata": {
        "id": "JB3vlqz4-Mpw"
      },
      "source": [
        "# EDA 함수들\n",
        "\n",
        "# 출처 : https://pytorch.org/tutorials/beginner/torchtext_translation_tutorial.html\n",
        "from collections import Counter\n",
        "from torchtext.vocab import Vocab\n",
        "from torchtext.data.utils import get_tokenizer\n",
        "def count_words(corpus, counter = Counter(), tokenizer = get_tokenizer('spacy')):\n",
        "  for sent in corpus:\n",
        "    counter.update(en_tokenizer(sent))\n",
        "  return counter, Vocab(counter)\n",
        "def tokenizing(corpus, vocab, tokenizer):\n",
        "  result = []\n",
        "  for sent in corpus:\n",
        "    sent_tokens = [vocab[token] for token in tokenizer(sent)]\n",
        "    result.append(sent_tokens)\n",
        "  return result\n",
        "def sumUptheWordsCount(corpus):\n",
        "  sum_ = 0\n",
        "  for sent in corpus:\n",
        "    sum_ += len(sent) \n",
        "  return sum_"
      ],
      "execution_count": null,
      "outputs": []
    },
    {
      "cell_type": "code",
      "metadata": {
        "id": "SEEo5n96Labg"
      },
      "source": [
        ""
      ],
      "execution_count": null,
      "outputs": []
    },
    {
      "cell_type": "code",
      "metadata": {
        "colab": {
          "base_uri": "https://localhost:8080/",
          "height": 372
        },
        "id": "bVGasvquzADY",
        "outputId": "09be5f78-0edb-495a-ec62-18ebed5d86c0"
      },
      "source": [
        "EDA(fic)"
      ],
      "execution_count": null,
      "outputs": [
        {
          "output_type": "stream",
          "text": [
            "전체 문장 수 : 82411\n",
            "전체 단어 수 : 43096\n"
          ],
          "name": "stdout"
        },
        {
          "output_type": "stream",
          "text": [
            "/usr/local/lib/python3.7/dist-packages/seaborn/distributions.py:2557: FutureWarning: `distplot` is a deprecated function and will be removed in a future version. Please adapt your code to use either `displot` (a figure-level function with similar flexibility) or `histplot` (an axes-level function for histograms).\n",
            "  warnings.warn(msg, FutureWarning)\n"
          ],
          "name": "stderr"
        },
        {
          "output_type": "stream",
          "text": [
            "문장 평균 단어 수 : 14.444\n"
          ],
          "name": "stdout"
        },
        {
          "output_type": "display_data",
          "data": {
            "image/png": "[encoded data removed]",
            "text/plain": [
              "<Figure size 432x288 with 1 Axes>"
            ]
          },
          "metadata": {
            "tags": [],
            "needs_background": "light"
          }
        }
      ]
    },
    {
      "cell_type": "code",
      "metadata": {
        "colab": {
          "base_uri": "https://localhost:8080/",
          "height": 372
        },
        "id": "3pfgb3RlzXcj",
        "outputId": "052dc356-20f1-4db3-fb78-5a5995cf3a62"
      },
      "source": [
        "EDA(tvm)"
      ],
      "execution_count": null,
      "outputs": [
        {
          "output_type": "stream",
          "text": [
            "전체 문장 수 : 168111\n",
            "전체 단어 수 : 41652\n"
          ],
          "name": "stdout"
        },
        {
          "output_type": "stream",
          "text": [
            "/usr/local/lib/python3.7/dist-packages/seaborn/distributions.py:2557: FutureWarning: `distplot` is a deprecated function and will be removed in a future version. Please adapt your code to use either `displot` (a figure-level function with similar flexibility) or `histplot` (an axes-level function for histograms).\n",
            "  warnings.warn(msg, FutureWarning)\n"
          ],
          "name": "stderr"
        },
        {
          "output_type": "stream",
          "text": [
            "문장 평균 단어 수 : 8.285\n"
          ],
          "name": "stdout"
        },
        {
          "output_type": "display_data",
          "data": {
            "image/png": "[encoded data removed]",
            "text/plain": [
              "<Figure size 432x288 with 1 Axes>"
            ]
          },
          "metadata": {
            "tags": [],
            "needs_background": "light"
          }
        }
      ]
    }
  ]
}